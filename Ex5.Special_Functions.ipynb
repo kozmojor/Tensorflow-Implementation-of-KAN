{
 "cells": [
  {
   "cell_type": "markdown",
   "id": "134e7f9d",
   "metadata": {},
   "source": [
    "# Example 5: Special functions"
   ]
  },
  {
   "cell_type": "markdown",
   "id": "2571d531",
   "metadata": {},
   "source": [
    "### Goal of this example\n",
    "\n",
    "In this experiment, we use the KAN model to fit a function involving a special function:\n",
    "$f(x,y)={\\rm exp}(J_0(20x)+y^2)$\n",
    "Where $J_0(x)$ is the zero-order Bessel function of the first kind. The purpose is to explore how well the KAN model can learn this function and recover the $J_0(x)$ structure.\n",
    "\n",
    "**Objective**: Exploring how well the KAN model can learn special function and recover the $J_0(x)$ structure, therefore examining KAN's potential in the field of AI4Science.\n",
    "\n"
   ]
  },
  {
   "cell_type": "markdown",
   "id": "523de43126423de3",
   "metadata": {},
   "source": [
    "## Step 1: Import Libraries and Define the target function"
   ]
  },
  {
   "cell_type": "code",
   "execution_count": null,
   "id": "bdd5a849f74b0143",
   "metadata": {},
   "outputs": [],
   "source": [
    "from KANLayer import *\n",
    "from MultKAN import *\n",
    "import matplotlib.pyplot as plt\n",
    "from sklearn.datasets import make_moons\n",
    "# import torch\n",
    "import numpy as np\n",
    "import tensorflow as tf\n",
    "from tensorkan.MultKAN import MultKAN as KANTF\n",
    "from tensorkan.utils import *\n",
    "from scipy.special import j0\n",
    "from tensorkan.LBFGS import LBFGS\n",
    "\n",
    "# device = torch.device('cuda' if torch.cuda.is_available() else 'cpu')\n",
    "# print(device)\n",
    "\n",
    "import tensorflow as tf\n",
    "\n",
    "def target_function(x):\n",
    "    \"\"\"\n",
    "    Target Function:\n",
    "        f(x) = exp( J_0(20 * x_0) + x_1^2 )\n",
    "    Args:\n",
    "        x: Input TensorFlow tensor of shape (batch_size, 2)\n",
    "    Returns:\n",
    "        TensorFlow tensor of shape (batch_size, 1)\n",
    "    \"\"\"\n",
    "    bessel_j0 = tf.numpy_function(j0, [20 * x[:, 0:1]], tf.float32)  # Using scipy.special.j0 for Bessel function\n",
    "    square_term = tf.square(x[:, 1:2])\n",
    "    result = tf.exp(bessel_j0 + square_term)\n",
    "    return result\n"
   ]
  },
  {
   "cell_type": "markdown",
   "id": "8dd5bbbd416b2831",
   "metadata": {},
   "source": [
    "## Step 2: Build a Tensorflow KAN model and Start Training"
   ]
  },
  {
   "cell_type": "code",
   "execution_count": 37,
   "id": "2075ef56",
   "metadata": {
    "ExecuteTime": {
     "end_time": "2024-12-16T20:14:15.556565Z",
     "start_time": "2024-12-16T20:13:31.878301Z"
    }
   },
   "outputs": [
    {
     "name": "stdout",
     "output_type": "stream",
     "text": [
      "checkpoint directory created: ./model\n",
      "saving model version 0.0\n"
     ]
    },
    {
     "name": "stderr",
     "output_type": "stream",
     "text": [
      "| train_loss: 3.19e+01 | test_loss: 5.86e+01 | reg: 3.37e+02 |: 100%|█| 20/20 [00:43<00:00,  2.17s/i"
     ]
    },
    {
     "name": "stdout",
     "output_type": "stream",
     "text": [
      "Saving model version 0.1\n"
     ]
    },
    {
     "name": "stderr",
     "output_type": "stream",
     "text": [
      "\n"
     ]
    }
   ],
   "source": [
    "\n",
    "model = KANTF(width=[2, 1, 1], grid=3, k=3, noise_scale=1.0)\n",
    "f = lambda x: tf.math.exp(target_function(x))\n",
    "dataset = create_dataset(f, n_var=2, train_num=1000)\n",
    "\n",
    "\n",
    "model.fit(dataset, opt=\"LBFGS\", steps=20, lamb=0.001, lr=0.001);\n"
   ]
  },
  {
   "cell_type": "markdown",
   "id": "2f30c3ab",
   "metadata": {},
   "source": [
    "## Step 3: Plot Trained KAN (the Bessel Function shows up in the bottom left)"
   ]
  },
  {
   "cell_type": "code",
   "execution_count": 38,
   "id": "3f95fcdd",
   "metadata": {
    "ExecuteTime": {
     "end_time": "2024-12-16T20:14:19.388616Z",
     "start_time": "2024-12-16T20:14:18.730228Z"
    }
   },
   "outputs": [
    {
     "data": {
      "image/png": "[encoded data removed]",
      "text/plain": [
       "<Figure size 500x400 with 6 Axes>"
      ]
     },
     "metadata": {},
     "output_type": "display_data"
    }
   ],
   "source": [
    "model.plot()"
   ]
  },
  {
   "cell_type": "code",
   "execution_count": 39,
   "id": "187d19f9",
   "metadata": {
    "ExecuteTime": {
     "end_time": "2024-12-16T20:14:38.639838Z",
     "start_time": "2024-12-16T20:14:22.073807Z"
    }
   },
   "outputs": [
    {
     "name": "stdout",
     "output_type": "stream",
     "text": [
      "Saving model version 0.2\n"
     ]
    },
    {
     "name": "stderr",
     "output_type": "stream",
     "text": [
      "| train_loss: 3.86e+01 | test_loss: 6.77e+01 | reg: 6.38e+02 |: 100%|█| 10/10 [00:15<00:00,  1.60s/i"
     ]
    },
    {
     "name": "stdout",
     "output_type": "stream",
     "text": [
      "Saving model version 0.3\n"
     ]
    },
    {
     "name": "stderr",
     "output_type": "stream",
     "text": [
      "\n"
     ]
    }
   ],
   "source": [
    "model = model.refine(1)\n",
    "model.fit(dataset, opt=\"LBFGS\", steps=10);"
   ]
  },
  {
   "cell_type": "code",
   "execution_count": 40,
   "id": "8d50bcef",
   "metadata": {
    "ExecuteTime": {
     "end_time": "2024-12-16T20:14:46.364157Z",
     "start_time": "2024-12-16T20:14:45.835321Z"
    }
   },
   "outputs": [
    {
     "data": {
      "image/png": "[encoded data removed]",
      "text/plain": [
       "<Figure size 500x400 with 6 Axes>"
      ]
     },
     "metadata": {},
     "output_type": "display_data"
    }
   ],
   "source": [
    "model.plot()"
   ]
  },
  {
   "cell_type": "markdown",
   "id": "9595465c027620f8",
   "metadata": {},
   "source": [
    "## Step 4: Add Bessel Function J0 to the Symbolic Library"
   ]
  },
  {
   "cell_type": "markdown",
   "id": "733a2a41",
   "metadata": {},
   "source": [
    "Suggest_symbolic does not return anything that matches with it, since Bessel function isn't included in the default SYMBOLIC_LIB. We want to add Bessel to it."
   ]
  },
  {
   "cell_type": "code",
   "execution_count": 41,
   "id": "031db28f",
   "metadata": {
    "ExecuteTime": {
     "end_time": "2024-12-16T20:14:58.561907Z",
     "start_time": "2024-12-16T20:14:51.275914Z"
    }
   },
   "outputs": [
    {
     "name": "stdout",
     "output_type": "stream",
     "text": [
      "   function  fitting r2    r2 loss  complexity  complexity loss  total loss\n",
      "0       x^2    0.999821 -12.369733           2                2   -0.873947\n",
      "1       cos    0.999728 -11.792070           2                2   -0.758414\n",
      "2       sin    0.998885  -9.795352           2                2   -0.359070\n",
      "3         0    0.000000   0.000014           0                0    0.000003\n",
      "4  gaussian    0.999584 -11.196676           3                3    0.160665\n"
     ]
    },
    {
     "data": {
      "text/plain": [
       "('x^2',\n",
       " (<function utils.<lambda>(x)>,\n",
       "  <function utils.<lambda>(x)>,\n",
       "  2,\n",
       "  <function utils.<lambda>(x, y_th)>),\n",
       " 0.99982107,\n",
       " 2)"
      ]
     },
     "execution_count": 41,
     "metadata": {},
     "output_type": "execute_result"
    }
   ],
   "source": [
    "model.suggest_symbolic(0,0,0)"
   ]
  },
  {
   "cell_type": "code",
   "execution_count": 42,
   "id": "4b8549a2",
   "metadata": {
    "ExecuteTime": {
     "end_time": "2024-12-16T20:15:01.863757Z",
     "start_time": "2024-12-16T20:15:01.858769Z"
    }
   },
   "outputs": [
    {
     "data": {
      "text/plain": [
       "dict_keys(['x', 'x^2', 'x^3', 'x^4', 'x^5', '1/x', '1/x^2', '1/x^3', '1/x^4', '1/x^5', 'sqrt', 'x^0.5', 'x^1.5', '1/sqrt(x)', '1/x^0.5', 'exp', 'log', 'abs', 'sin', 'cos', 'tan', 'tanh', 'sgn', 'arcsin', 'arccos', 'arctan', 'arctanh', '0', 'gaussian', 'J0'])"
      ]
     },
     "execution_count": 42,
     "metadata": {},
     "output_type": "execute_result"
    }
   ],
   "source": [
    "SYMBOLIC_LIB.keys()"
   ]
  },
  {
   "cell_type": "markdown",
   "id": "5db9e7cf",
   "metadata": {},
   "source": [
    "We define J0 by using tensorflow features."
   ]
  },
  {
   "cell_type": "code",
   "execution_count": 43,
   "id": "cbde1924",
   "metadata": {
    "ExecuteTime": {
     "end_time": "2024-12-16T20:15:04.419022Z",
     "start_time": "2024-12-16T20:15:04.414035Z"
    }
   },
   "outputs": [],
   "source": [
    "\n",
    "def bessel_j0(x, terms=5):\n",
    "    \"\"\"\n",
    "    Approximate calculation of the zero-order Bessel function of the first kind J_0(x).\n",
    "\n",
    "    Args:\n",
    "        x: TensorFlow tensor input (any shape).\n",
    "        terms: Number of terms in the Taylor series expansion (default is 5).\n",
    "\n",
    "    Returns:\n",
    "        TensorFlow tensor representing the approximate value of J_0(x) for the input x.\n",
    "\n",
    "    Explanation:\n",
    "        J_0(x) is approximated using the Taylor series expansion:\n",
    "        J_0(x) = 1 - (x^2 / 4) + (x^4 / 64) - (x^6 / 2304) + ...\n",
    "        This implementation computes the expansion iteratively up to the specified number of terms.\n",
    "    \"\"\"\n",
    "    result = tf.ones_like(x)  # Initialize result to 1\n",
    "    power_x = tf.ones_like(x)  # Initialize x's power to 1 (for first term in the series)\n",
    "    for n in range(1, terms):\n",
    "        power_x *= -(x ** 2) / (4 * n ** 2)\n",
    "        result += power_x\n",
    "    return result\n",
    "\n",
    "# Add the zero-order Bessel function J0 to the symbolic function library\n",
    "add_symbolic('J0', bessel_j0, c=1)\n"
   ]
  },
  {
   "cell_type": "markdown",
   "id": "bda24c6d",
   "metadata": {},
   "source": [
    "After adding Bessel, we check suggest_symbolic again."
   ]
  },
  {
   "cell_type": "code",
   "execution_count": 44,
   "id": "83e5cfdd",
   "metadata": {
    "ExecuteTime": {
     "end_time": "2024-12-16T20:15:14.105260Z",
     "start_time": "2024-12-16T20:15:07.445741Z"
    }
   },
   "outputs": [
    {
     "name": "stdout",
     "output_type": "stream",
     "text": [
      "   function  fitting r2    r2 loss  complexity  complexity loss  total loss\n",
      "0       x^2    0.999821 -12.369733           2                2   -0.873947\n",
      "1       cos    0.999728 -11.792070           2                2   -0.758414\n",
      "2       sin    0.998885  -9.795352           2                2   -0.359070\n",
      "3         0    0.000000   0.000014           0                0    0.000003\n",
      "4  gaussian    0.999584 -11.196676           3                3    0.160665\n"
     ]
    },
    {
     "data": {
      "text/plain": [
       "('x^2',\n",
       " (<function utils.<lambda>(x)>,\n",
       "  <function utils.<lambda>(x)>,\n",
       "  2,\n",
       "  <function utils.<lambda>(x, y_th)>),\n",
       " 0.99982107,\n",
       " 2)"
      ]
     },
     "execution_count": 44,
     "metadata": {},
     "output_type": "execute_result"
    }
   ],
   "source": [
    "# J0 fitting is not very good\n",
    "model.suggest_symbolic(0,0,0)"
   ]
  },
  {
   "cell_type": "markdown",
   "id": "f8d97041f002ad65",
   "metadata": {},
   "source": [
    "## Step 5: Analysis of Results "
   ]
  },
  {
   "cell_type": "markdown",
   "id": "4180de14",
   "metadata": {},
   "source": [
    "The fitting r2 is still not high, this is because the ground truth is \\\\( J_0(20x) \\\\) which involves 20 which is too large. our default search is in (-10,10). so we need to set the search range bigger in order to include 20. However, after testing for more rounds, the \\\\( J_0 \\\\) function still does not appear at the top. \n",
    "\n",
    "These are some possible reasons:\n",
    "\n",
    "**Coefficient Range Issue**: The coefficient \\\\( 20 \\\\) in \\\\( J_0(20x) \\\\) exceeds the default search range \\\\((-10, 10)\\\\), making it difficult for the model to identify the correct structure.  \n",
    "**Approximation Precision**: \\\\( J_0 \\\\) is not defined in tensorflow originally, so we need to use an approximation to get the function which is not accurate as it is in PyTorch. The custom \\\\( J_0 \\\\) implementation based on Taylor expansion may lack precision, especially for larger values like \\\\( 20x \\\\).  \n",
    "**Data Inconsistency**: The target data is generated using `scipy.special.j0`, whereas training uses the approximated \\\\( J_0 \\\\), introducing discrepancies.  \n",
    "**Model Bias Toward Simplicity**: The KAN model may inherently prioritize simpler functions over complex structures like \\\\( J_0 \\\\), even with an expanded search range.\n"
   ]
  },
  {
   "cell_type": "code",
   "execution_count": 45,
   "id": "e78f4674",
   "metadata": {
    "ExecuteTime": {
     "end_time": "2024-12-16T20:15:24.500094Z",
     "start_time": "2024-12-16T20:15:17.499355Z"
    }
   },
   "outputs": [
    {
     "name": "stdout",
     "output_type": "stream",
     "text": [
      "   function  fitting r2    r2 loss  complexity  complexity loss  total loss\n",
      "0       sin    0.999821 -12.372466           2                2   -0.874493\n",
      "1       x^2    0.999821 -12.371099           2                2   -0.874220\n",
      "2       cos    0.999821 -12.369733           2                2   -0.873947\n",
      "3         0    0.000000   0.000014           0                0    0.000003\n",
      "4  gaussian    0.999678 -11.554985           3                3    0.089003\n"
     ]
    },
    {
     "data": {
      "text/plain": [
       "('sin',\n",
       " (<function utils.<lambda>(x)>,\n",
       "  <function utils.<lambda>(x)>,\n",
       "  2,\n",
       "  <function utils.<lambda>(x, y_th)>),\n",
       " 0.9998214,\n",
       " 2)"
      ]
     },
     "execution_count": 45,
     "metadata": {},
     "output_type": "execute_result"
    }
   ],
   "source": [
    "model.suggest_symbolic(0,0,0,a_range=(-80,80))"
   ]
  },
  {
   "cell_type": "code",
   "execution_count": null,
   "id": "b5792b65c8f4ff9a",
   "metadata": {},
   "outputs": [],
   "source": []
  }
 ],
 "metadata": {
  "kernelspec": {
   "display_name": "Python 3 (ipykernel)",
   "language": "python",
   "name": "python3"
  },
  "language_info": {
   "codemirror_mode": {
    "name": "ipython",
    "version": 3
   },
   "file_extension": ".py",
   "mimetype": "text/x-python",
   "name": "python",
   "nbconvert_exporter": "python",
   "pygments_lexer": "ipython3",
   "version": "3.9.7"
  }
 },
 "nbformat": 4,
 "nbformat_minor": 5
}
