{
 "cells": [
  {
   "cell_type": "markdown",
   "metadata": {},
   "source": [
    "# Experiment 9: Singularity\n",
    "Let's construct a dataset which contains singularity $f(x,y)=sin(log(x)+log(y))\n",
    " (x>0,y>0)$"
   ]
  },
  {
   "cell_type": "code",
   "execution_count": 1,
   "metadata": {},
   "outputs": [],
   "source": [
    "import sys\n",
    "import os\n",
    "\n",
    "parent_dir = os.path.abspath(os.path.join(os.getcwd(), os.pardir))\n",
    "\n",
    "sys.path.insert(0, parent_dir)"
   ]
  },
  {
   "cell_type": "markdown",
   "metadata": {},
   "source": [
    "## Step 1 construct a dataset which contains singularity $f(x,y)=sin(log(x)+log(y))"
   ]
  },
  {
   "cell_type": "code",
   "execution_count": 2,
   "metadata": {},
   "outputs": [
    {
     "name": "stdout",
     "output_type": "stream",
     "text": [
      "Using device: /CPU:0\n",
      "checkpoint directory created: ./model\n",
      "saving model version 0.0\n"
     ]
    },
    {
     "name": "stderr",
     "output_type": "stream",
     "text": [
      "description:   0%|                                                           | 0/20 [00:00<?, ?it/s]WARNING:absl:At this time, the v2.11+ optimizer `tf.keras.optimizers.LBFGS` runs slowly on M1/M2 Macs, please use the legacy Keras optimizer instead, located at `tf.keras.optimizers.legacy.LBFGS`.\n",
      "| train_loss: 1.24e-01 | test_loss: 1.47e-01 | reg: 6.41e+00 |: 100%|█| 20/20 [00:08<00:00,  2.41it/"
     ]
    },
    {
     "name": "stdout",
     "output_type": "stream",
     "text": [
      "Saving model version 0.1\n"
     ]
    },
    {
     "name": "stderr",
     "output_type": "stream",
     "text": [
      "\n"
     ]
    },
    {
     "data": {
      "text/plain": [
       "{'train_loss': [0.36146536,\n",
       "  0.23076788,\n",
       "  0.1514382,\n",
       "  0.12657239,\n",
       "  0.12025742,\n",
       "  0.15507968,\n",
       "  0.1532398,\n",
       "  0.14962019,\n",
       "  0.14207257,\n",
       "  0.10970613,\n",
       "  0.1445385,\n",
       "  0.13429248,\n",
       "  0.12530516,\n",
       "  0.12311008,\n",
       "  0.122008726,\n",
       "  0.15406999,\n",
       "  0.14278941,\n",
       "  0.13451885,\n",
       "  0.12771833,\n",
       "  0.12386442],\n",
       " 'test_loss': [0.35473472,\n",
       "  0.25073728,\n",
       "  0.16382569,\n",
       "  0.1299209,\n",
       "  0.12273625,\n",
       "  0.1550668,\n",
       "  0.15349002,\n",
       "  0.14916423,\n",
       "  0.14197868,\n",
       "  0.116887465,\n",
       "  0.14951861,\n",
       "  0.14758685,\n",
       "  0.14465903,\n",
       "  0.14395876,\n",
       "  0.14271493,\n",
       "  0.17182218,\n",
       "  0.15852678,\n",
       "  0.15187924,\n",
       "  0.15023172,\n",
       "  0.14743556],\n",
       " 'reg': [0.0,\n",
       "  0.0,\n",
       "  0.0,\n",
       "  0.0,\n",
       "  0.0,\n",
       "  0.0,\n",
       "  0.0,\n",
       "  0.0,\n",
       "  0.0,\n",
       "  0.0,\n",
       "  0.0,\n",
       "  0.0,\n",
       "  0.0,\n",
       "  0.0,\n",
       "  0.0,\n",
       "  0.0,\n",
       "  0.0,\n",
       "  0.0,\n",
       "  0.0,\n",
       "  6.4084373]}"
      ]
     },
     "execution_count": 2,
     "metadata": {},
     "output_type": "execute_result"
    }
   ],
   "source": [
    "from tensorkan.MultKAN import MultKAN as KANTF\n",
    "import tensorflow as tf\n",
    "import numpy as np\n",
    "from tensorkan.utils import create_dataset\n",
    "\n",
    "device = '/GPU:0' if tf.config.list_physical_devices('GPU') else '/CPU:0'\n",
    "print(f\"Using device: {device}\")\n",
    "\n",
    "def f(x):\n",
    "    return tf.math.sin(2 * (tf.math.log(x[:, 0:1]) + tf.math.log(x[:, 1:2])))\n",
    "\n",
    "\n",
    "\n",
    "\n",
    "dataset = create_dataset(f, n_var=2, ranges=[0.2, 5])\n",
    "\n",
    "\n",
    "model = KANTF(width=[2, 1, 1], grid=5, k=3, seed=2)\n",
    "\n",
    "model.fit(dataset, opt=\"LBFGS\", steps=20,lr=0.0001)\n",
    "\n"
   ]
  },
  {
   "cell_type": "markdown",
   "metadata": {},
   "source": [
    "## Step 2 Show the model plot"
   ]
  },
  {
   "cell_type": "code",
   "execution_count": 3,
   "metadata": {},
   "outputs": [
    {
     "data": {
      "image/png": "[encoded data removed]",
      "text/plain": [
       "<Figure size 500x400 with 6 Axes>"
      ]
     },
     "metadata": {},
     "output_type": "display_data"
    }
   ],
   "source": [
    "model.plot()"
   ]
  },
  {
   "cell_type": "markdown",
   "metadata": {},
   "source": [
    "## Step 3 fix symbolic for the model to get an math expression"
   ]
  },
  {
   "cell_type": "code",
   "execution_count": 4,
   "metadata": {},
   "outputs": [
    {
     "name": "stdout",
     "output_type": "stream",
     "text": [
      "r2 is 0.9995952248573303\n",
      "Saving model version 0.2\n",
      "Best value at boundary.\n",
      "r2 is 0.9994297027587891\n",
      "Saving model version 0.3\n",
      "r2 is 0.9633826017379761\n",
      "Saving model version 0.4\n"
     ]
    },
    {
     "data": {
      "text/plain": [
       "<tf.Tensor: shape=(), dtype=float32, numpy=0.9633826>"
      ]
     },
     "execution_count": 4,
     "metadata": {},
     "output_type": "execute_result"
    }
   ],
   "source": [
    "model.fix_symbolic(0,0,0,'log')\n",
    "model.fix_symbolic(0,1,0,'log')\n",
    "model.fix_symbolic(1,0,0,'sin')"
   ]
  },
  {
   "cell_type": "markdown",
   "metadata": {},
   "source": [
    "## Train Again to fit the Symbolic"
   ]
  },
  {
   "cell_type": "code",
   "execution_count": 5,
   "metadata": {},
   "outputs": [
    {
     "name": "stderr",
     "output_type": "stream",
     "text": [
      "description:   0%|                                                           | 0/20 [00:00<?, ?it/s]WARNING:absl:At this time, the v2.11+ optimizer `tf.keras.optimizers.LBFGS` runs slowly on M1/M2 Macs, please use the legacy Keras optimizer instead, located at `tf.keras.optimizers.legacy.LBFGS`.\n",
      "| train_loss: 1.60e-01 | test_loss: 1.69e-01 | reg: 6.43e+00 |: 100%|█| 20/20 [00:07<00:00,  2.59it/"
     ]
    },
    {
     "name": "stdout",
     "output_type": "stream",
     "text": [
      "Saving model version 0.5\n"
     ]
    },
    {
     "name": "stderr",
     "output_type": "stream",
     "text": [
      "\n"
     ]
    },
    {
     "data": {
      "text/plain": [
       "{'train_loss': [0.16978993,\n",
       "  0.16978993,\n",
       "  0.16976388,\n",
       "  0.16976386,\n",
       "  0.16893446,\n",
       "  0.16697577,\n",
       "  0.1667126,\n",
       "  0.16642192,\n",
       "  0.16633558,\n",
       "  0.16595383,\n",
       "  0.16523762,\n",
       "  0.16523264,\n",
       "  0.16234298,\n",
       "  0.16033925,\n",
       "  0.16033925,\n",
       "  0.1596573,\n",
       "  0.15965731,\n",
       "  0.1596573,\n",
       "  0.15965728,\n",
       "  0.15965728],\n",
       " 'test_loss': [0.19221622,\n",
       "  0.19221622,\n",
       "  0.19232583,\n",
       "  0.19232583,\n",
       "  0.19128034,\n",
       "  0.17468196,\n",
       "  0.17464581,\n",
       "  0.17793249,\n",
       "  0.178489,\n",
       "  0.18120888,\n",
       "  0.1805046,\n",
       "  0.18044847,\n",
       "  0.16951713,\n",
       "  0.16990037,\n",
       "  0.16990039,\n",
       "  0.16921118,\n",
       "  0.1692112,\n",
       "  0.16921118,\n",
       "  0.16921118,\n",
       "  0.1692112],\n",
       " 'reg': [0.0,\n",
       "  0.0,\n",
       "  0.0,\n",
       "  0.0,\n",
       "  0.0,\n",
       "  0.0,\n",
       "  0.0,\n",
       "  0.0,\n",
       "  0.0,\n",
       "  0.0,\n",
       "  0.0,\n",
       "  0.0,\n",
       "  0.0,\n",
       "  0.0,\n",
       "  0.0,\n",
       "  0.0,\n",
       "  0.0,\n",
       "  0.0,\n",
       "  0.0,\n",
       "  6.427317]}"
      ]
     },
     "execution_count": 5,
     "metadata": {},
     "output_type": "execute_result"
    }
   ],
   "source": [
    "model.fit(dataset, opt=\"LBFGS\", steps=20,lr=0.0001)"
   ]
  },
  {
   "cell_type": "markdown",
   "metadata": {},
   "source": [
    "## Using exround to get the approximate math expression"
   ]
  },
  {
   "cell_type": "code",
   "execution_count": 6,
   "metadata": {},
   "outputs": [
    {
     "data": {
      "text/latex": [
       "$\\displaystyle - 0.97 \\sin{\\left(1.872 \\log{\\left(8.572 x_{1} - 0.188 \\right)} + 1.874 \\log{\\left(9.998 x_{2} - 0.14 \\right)} - 4.938 \\right)} - 0.008$"
      ],
      "text/plain": [
       "-0.97*sin(1.872*log(8.572*x_1 - 0.188) + 1.874*log(9.998*x_2 - 0.14) - 4.938) - 0.008"
      ]
     },
     "execution_count": 6,
     "metadata": {},
     "output_type": "execute_result"
    }
   ],
   "source": [
    "from tensorkan.utils import ex_round\n",
    "ex_round(model.symbolic_formula()[0][0], 3)"
   ]
  },
  {
   "cell_type": "markdown",
   "metadata": {},
   "source": [
    "## singularity does not seem to be a problem in this case. But let's instead consider $f(x,y)=\\sqrt{x^2+y^2}$. $x=y=0$ is a singularity point."
   ]
  },
  {
   "cell_type": "code",
   "execution_count": 40,
   "metadata": {},
   "outputs": [
    {
     "name": "stdout",
     "output_type": "stream",
     "text": [
      "checkpoint directory created: ./model\n",
      "saving model version 0.0\n"
     ]
    },
    {
     "name": "stderr",
     "output_type": "stream",
     "text": [
      "description:   0%|                                                           | 0/20 [00:00<?, ?it/s]WARNING:absl:At this time, the v2.11+ optimizer `tf.keras.optimizers.LBFGS` runs slowly on M1/M2 Macs, please use the legacy Keras optimizer instead, located at `tf.keras.optimizers.legacy.LBFGS`.\n",
      "| train_loss: 2.78e-03 | test_loss: 3.91e-03 | reg: 5.38e+00 |: 100%|█| 20/20 [00:09<00:00,  2.16it/"
     ]
    },
    {
     "name": "stdout",
     "output_type": "stream",
     "text": [
      "Saving model version 0.1\n"
     ]
    },
    {
     "name": "stderr",
     "output_type": "stream",
     "text": [
      "\n"
     ]
    },
    {
     "data": {
      "text/plain": [
       "{'train_loss': [0.077796936,\n",
       "  0.027835522,\n",
       "  0.019481376,\n",
       "  0.010988378,\n",
       "  0.009708695,\n",
       "  0.007550315,\n",
       "  0.007326649,\n",
       "  0.007326649,\n",
       "  0.007326649,\n",
       "  0.007326649,\n",
       "  0.005514417,\n",
       "  0.0041357228,\n",
       "  0.0039648125,\n",
       "  0.0034406662,\n",
       "  0.0033663115,\n",
       "  0.002830373,\n",
       "  0.0028266155,\n",
       "  0.0028266155,\n",
       "  0.0027767282,\n",
       "  0.0027767266],\n",
       " 'test_loss': [0.07562261,\n",
       "  0.027344406,\n",
       "  0.01885721,\n",
       "  0.011062081,\n",
       "  0.010265901,\n",
       "  0.008178835,\n",
       "  0.007859152,\n",
       "  0.007859152,\n",
       "  0.007859152,\n",
       "  0.007859152,\n",
       "  0.0060971575,\n",
       "  0.0048585627,\n",
       "  0.004734154,\n",
       "  0.004516141,\n",
       "  0.0044457666,\n",
       "  0.003957861,\n",
       "  0.0039545246,\n",
       "  0.003954525,\n",
       "  0.0039060162,\n",
       "  0.003906015],\n",
       " 'reg': [0.0,\n",
       "  0.0,\n",
       "  0.0,\n",
       "  0.0,\n",
       "  0.0,\n",
       "  0.0,\n",
       "  0.0,\n",
       "  0.0,\n",
       "  0.0,\n",
       "  0.0,\n",
       "  0.0,\n",
       "  0.0,\n",
       "  0.0,\n",
       "  0.0,\n",
       "  0.0,\n",
       "  0.0,\n",
       "  0.0,\n",
       "  0.0,\n",
       "  0.0,\n",
       "  5.384618]}"
      ]
     },
     "execution_count": 40,
     "metadata": {},
     "output_type": "execute_result"
    }
   ],
   "source": [
    "\n",
    "def f(x):\n",
    "    return tf.math.sqrt(x[:, 0:1] ** 2 + x[:, 1:2] ** 2)\n",
    "\n",
    "\n",
    "dataset = create_dataset(f, n_var=2, ranges=[-1, 1])\n",
    "\n",
    "\n",
    "model = KANTF(width=[2, 1, 1], grid=5, k=3, seed=0)\n",
    "\n",
    "\n",
    "model.fit(dataset, opt=\"LBFGS\", steps=20,lr = 0.0001)\n",
    "\n"
   ]
  },
  {
   "cell_type": "code",
   "execution_count": 41,
   "metadata": {},
   "outputs": [
    {
     "data": {
      "image/png": "[encoded data removed]",
      "text/plain": [
       "<Figure size 500x400 with 6 Axes>"
      ]
     },
     "metadata": {},
     "output_type": "display_data"
    }
   ],
   "source": [
    "model.plot()"
   ]
  },
  {
   "cell_type": "code",
   "execution_count": 42,
   "metadata": {},
   "outputs": [
    {
     "name": "stdout",
     "output_type": "stream",
     "text": [
      "r2 is 0.9999991059303284\n",
      "Saving model version 0.2\n",
      "r2 is 0.9999974966049194\n",
      "Saving model version 0.3\n",
      "r2 is 0.9998950958251953\n",
      "Saving model version 0.4\n"
     ]
    },
    {
     "data": {
      "text/plain": [
       "<tf.Tensor: shape=(), dtype=float32, numpy=0.9998951>"
      ]
     },
     "execution_count": 42,
     "metadata": {},
     "output_type": "execute_result"
    }
   ],
   "source": [
    "model.fix_symbolic(0,0,0,'x^2')\n",
    "model.fix_symbolic(0,1,0,'x^2')\n",
    "model.fix_symbolic(1,0,0,'sqrt')"
   ]
  },
  {
   "cell_type": "code",
   "execution_count": 43,
   "metadata": {},
   "outputs": [
    {
     "data": {
      "text/latex": [
       "$\\displaystyle 1.00713472485531 \\sqrt{\\left(0.000179201583773068 - x_{2}\\right)^{2} + 0.999733616425669 \\left(- x_{1} - 0.00014508571598039\\right)^{2} + 0.00478362966783646} - 0.0092315673828125$"
      ],
      "text/plain": [
       "1.00713472485531*sqrt((0.000179201583773068 - x_2)**2 + 0.999733616425669*(-x_1 - 0.00014508571598039)**2 + 0.00478362966783646) - 0.0092315673828125"
      ]
     },
     "execution_count": 43,
     "metadata": {},
     "output_type": "execute_result"
    }
   ],
   "source": [
    "formula = model.symbolic_formula()[0][0]\n",
    "formula"
   ]
  },
  {
   "cell_type": "code",
   "execution_count": 44,
   "metadata": {},
   "outputs": [
    {
     "data": {
      "text/latex": [
       "$\\displaystyle 1.01 \\sqrt{1.0 x_{1}^{2} + x_{2}^{2}} - 0.01$"
      ],
      "text/plain": [
       "1.01*sqrt(1.0*x_1**2 + x_2**2) - 0.e-2"
      ]
     },
     "execution_count": 44,
     "metadata": {},
     "output_type": "execute_result"
    }
   ],
   "source": [
    "ex_round(formula, 2)"
   ]
  },
  {
   "cell_type": "markdown",
   "metadata": {},
   "source": [
    "### In this case, it shows an \"good-looking\" but wrong approximate math expression. \n",
    "### However, we found out that using kan may fail in some singularity case. However, using adam may help overcome this problem."
   ]
  },
  {
   "cell_type": "code",
   "execution_count": null,
   "metadata": {},
   "outputs": [],
   "source": []
  }
 ],
 "metadata": {
  "kernelspec": {
   "display_name": "Python 3 (ipykernel)",
   "language": "python",
   "name": "python3"
  },
  "language_info": {
   "codemirror_mode": {
    "name": "ipython",
    "version": 3
   },
   "file_extension": ".py",
   "mimetype": "text/x-python",
   "name": "python",
   "nbconvert_exporter": "python",
   "pygments_lexer": "ipython3",
   "version": "3.9.7"
  }
 },
 "nbformat": 4,
 "nbformat_minor": 4
}
