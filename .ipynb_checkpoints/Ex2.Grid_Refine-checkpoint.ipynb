{
 "cells": [
  {
   "cell_type": "markdown",
   "id": "c791014d-e2c1-400b-86d4-9b4f7a5c1a2d",
   "metadata": {},
   "source": [
    "# Experiment 2: Exploring Grid Refinement and its Impact on Loss\n",
    "\n",
    "In this experiment, we investigate how grid refinement impacts the training loss and test loss of a model. We systematically refine the grid at different steps and observe the resulting changes in RMSE.\n",
    "\n",
    "**Objective**: To evaluate the effect of grid refinement on model performance, as measured by RMSE (Root Mean Square Error)."
   ]
  },
  {
   "cell_type": "markdown",
   "id": "cd785ded-2781-4fe5-acbd-f4ba290dc6a1",
   "metadata": {},
   "source": [
    "## Step 1: Import Libraries and Set Up Environment\n",
    "\n",
    "We start by importing the required libraries and setting up the experiment environment.\n"
   ]
  },
  {
   "cell_type": "code",
   "execution_count": 1,
   "id": "ddfc7e08-4fe3-4b7f-91cb-d8819e6cc92e",
   "metadata": {},
   "outputs": [],
   "source": [
    "from tensorkan.MultKAN import MultKAN as KANTF\n",
    "import tensorflow as tf\n",
    "from tensorkan.KANLayer import KANLayer  # 假设 KANLayer 在这个路径下\n",
    "from tensorkan.utils import create_dataset\n",
    "import numpy as np"
   ]
  },
  {
   "cell_type": "markdown",
   "id": "6362d127-8d0b-4936-b577-3cfd5720e323",
   "metadata": {},
   "source": [
    "## Step 2: Initialize Dataset and Define Grid Refinement Steps\n",
    "\n",
    "We use the following settings for the experiment:\n",
    "\n",
    "- **Initial Grid**: 3\n",
    "- **Grid Refinement Steps**: [3, 5, 10, 20, 30, 50, 75, 100, 150, 200, 300]\n",
    "- **Loss Function**: RMSE (Root Mean Square Error)\n",
    "- **Optimizer**: LBFGS\n",
    "- **Training Steps per Refinement**: 40\n",
    "\n",
    "Below is the code for setting up the dataset and defining the grid refinement steps. And two shots to demostrate primary change made by refine.\n"
   ]
  },
  {
   "cell_type": "code",
   "execution_count": 2,
   "id": "7789a718-b1c0-499c-a43e-0db08c914586",
   "metadata": {},
   "outputs": [
    {
     "name": "stdout",
     "output_type": "stream",
     "text": [
      "checkpoint directory created: ./model\n",
      "saving model version 0.0\n"
     ]
    },
    {
     "name": "stderr",
     "output_type": "stream",
     "text": [
      "| train_loss: 1.56e-02 | test_loss: 1.54e-02 | reg: 9.10e+00 |: 100%|█| 20/20 [02:09<00:00,  6.48s/i"
     ]
    },
    {
     "name": "stdout",
     "output_type": "stream",
     "text": [
      "Saving model version 0.1\n"
     ]
    },
    {
     "name": "stderr",
     "output_type": "stream",
     "text": [
      "\n"
     ]
    }
   ],
   "source": [
    "# initialize KAN with G=3\n",
    "model = KANTF(width=[2, 1, 1], grid=3, k=3, seed=1, noise_scale=1.0)\n",
    "\n",
    "# create dataset\n",
    "f = lambda x: tf.math.exp(tf.math.sin(np.pi * x[:, 0:1]) + tf.math.square(x[:, 1:2]))\n",
    "dataset = create_dataset(f, n_var=2, train_num=700)\n",
    "model.fit(dataset, opt=\"LBFGS\", steps=50, lamb=0.001, lr=0.0001);"
   ]
  },
  {
   "cell_type": "code",
   "execution_count": 3,
   "id": "b81bbbbe-efc3-493f-aadd-58ff4d1a4a9c",
   "metadata": {},
   "outputs": [
    {
     "name": "stdout",
     "output_type": "stream",
     "text": [
      "Saving model version 0.2\n"
     ]
    },
    {
     "name": "stderr",
     "output_type": "stream",
     "text": [
      "| train_loss: 9.33e-03 | test_loss: 9.86e-03 | reg: 8.87e+00 |: 100%|█| 20/20 [02:22<00:00,  7.12s/i"
     ]
    },
    {
     "name": "stdout",
     "output_type": "stream",
     "text": [
      "Saving model version 0.3\n"
     ]
    },
    {
     "name": "stderr",
     "output_type": "stream",
     "text": [
      "\n"
     ]
    }
   ],
   "source": [
    "# initialize a more fine-grained KAN with G=10\n",
    "model = model.refine(10)\n",
    "model.fit(dataset, opt=\"LBFGS\", steps=50, lamb=0.001, lr=0.0001);"
   ]
  },
  {
   "cell_type": "markdown",
   "id": "2c7a8069-6385-4347-9464-7369fade1757",
   "metadata": {},
   "source": [
    "## Step 3: Model Initialization and Grid Refinement\n",
    "\n",
    "We initialize the model using the `KANTF` class and iteratively refine the grid. After each refinement, we train the model and record the training and testing losses.\n",
    "\n",
    "- At **step 0**, the model is initialized with a grid size of 3.\n",
    "- At subsequent steps, the grid is refined to the next size in the list.\n",
    "\n",
    "The following loop performs the refinement and records losses:\n"
   ]
  },
  {
   "cell_type": "code",
   "execution_count": 9,
   "id": "3128d0d5-df23-4246-87df-613c549b4446",
   "metadata": {},
   "outputs": [
    {
     "name": "stdout",
     "output_type": "stream",
     "text": [
      "checkpoint directory created: ./model\n",
      "saving model version 0.0\n"
     ]
    },
    {
     "name": "stderr",
     "output_type": "stream",
     "text": [
      "\n",
      " train_loss: 6.65e-01 | test_loss: 7.01e-01 | reg: 7.22e+00 |: 100%|█| 25/25 [01:59<00:00,  4.78s/i"
     ]
    },
    {
     "name": "stdout",
     "output_type": "stream",
     "text": [
      "Saving model version 0.1\n",
      "Saving model version 0.2\n"
     ]
    },
    {
     "name": "stderr",
     "output_type": "stream",
     "text": [
      "\n",
      " train_loss: 6.33e-01 | test_loss: 6.66e-01 | reg: 7.43e+00 |: 100%|█| 25/25 [01:53<00:00,  4.56s/i"
     ]
    },
    {
     "name": "stdout",
     "output_type": "stream",
     "text": [
      "Saving model version 0.3\n",
      "Saving model version 0.4\n"
     ]
    },
    {
     "name": "stderr",
     "output_type": "stream",
     "text": [
      "\n",
      " train_loss: 5.48e-01 | test_loss: 6.30e-01 | reg: 7.41e+00 |: 100%|█| 25/25 [01:58<00:00,  4.74s/i"
     ]
    },
    {
     "name": "stdout",
     "output_type": "stream",
     "text": [
      "Saving model version 0.5\n",
      "Saving model version 0.6\n"
     ]
    },
    {
     "name": "stderr",
     "output_type": "stream",
     "text": [
      "\n",
      " train_loss: 4.54e-01 | test_loss: 5.51e-01 | reg: 7.42e+00 |: 100%|█| 25/25 [02:08<00:00,  5.13s/i"
     ]
    },
    {
     "name": "stdout",
     "output_type": "stream",
     "text": [
      "Saving model version 0.7\n",
      "Saving model version 0.8\n"
     ]
    },
    {
     "name": "stderr",
     "output_type": "stream",
     "text": [
      "\n",
      " train_loss: 4.20e-01 | test_loss: 5.20e-01 | reg: 7.40e+00 |: 100%|█| 25/25 [02:17<00:00,  5.52s/i"
     ]
    },
    {
     "name": "stdout",
     "output_type": "stream",
     "text": [
      "Saving model version 0.9\n",
      "Saving model version 0.10\n"
     ]
    },
    {
     "name": "stderr",
     "output_type": "stream",
     "text": [
      "\n",
      " train_loss: 3.93e-01 | test_loss: 4.94e-01 | reg: 7.36e+00 |: 100%|█| 25/25 [02:21<00:00,  5.66s/i"
     ]
    },
    {
     "name": "stdout",
     "output_type": "stream",
     "text": [
      "Saving model version 0.11\n",
      "Saving model version 0.12\n"
     ]
    },
    {
     "name": "stderr",
     "output_type": "stream",
     "text": [
      "\n",
      " train_loss: 3.77e-01 | test_loss: 4.77e-01 | reg: 7.40e+00 |: 100%|█| 25/25 [02:25<00:00,  5.82s/i"
     ]
    },
    {
     "name": "stdout",
     "output_type": "stream",
     "text": [
      "Saving model version 0.13\n",
      "Saving model version 0.14\n"
     ]
    },
    {
     "name": "stderr",
     "output_type": "stream",
     "text": [
      "\n",
      " train_loss: 3.68e-01 | test_loss: 4.68e-01 | reg: 7.37e+00 |: 100%|█| 25/25 [02:44<00:00,  6.57s/i"
     ]
    },
    {
     "name": "stdout",
     "output_type": "stream",
     "text": [
      "Saving model version 0.15\n",
      "Saving model version 0.16\n"
     ]
    },
    {
     "name": "stderr",
     "output_type": "stream",
     "text": [
      "\n",
      " train_loss: 3.59e-01 | test_loss: 4.67e-01 | reg: 7.40e+00 |: 100%|█| 25/25 [03:15<00:00,  7.83s/i"
     ]
    },
    {
     "name": "stdout",
     "output_type": "stream",
     "text": [
      "Saving model version 0.17\n",
      "Saving model version 0.18\n"
     ]
    },
    {
     "name": "stderr",
     "output_type": "stream",
     "text": [
      "\n",
      " train_loss: 3.50e-01 | test_loss: 4.73e-01 | reg: 7.40e+00 |: 100%|█| 25/25 [03:10<00:00,  7.62s/i"
     ]
    },
    {
     "name": "stdout",
     "output_type": "stream",
     "text": [
      "Saving model version 0.19\n",
      "Saving model version 0.20\n"
     ]
    },
    {
     "name": "stderr",
     "output_type": "stream",
     "text": [
      "| train_loss: 3.49e-01 | test_loss: 1.15e+02 | reg: 7.43e+00 |: 100%|█| 25/25 [03:42<00:00,  8.91s/i"
     ]
    },
    {
     "name": "stdout",
     "output_type": "stream",
     "text": [
      "Saving model version 0.21\n"
     ]
    },
    {
     "name": "stderr",
     "output_type": "stream",
     "text": [
      "\n"
     ]
    }
   ],
   "source": [
    "f = lambda x: tf.math.exp(tf.math.sin(np.pi * x[:, 0:1]) + tf.math.square(x[:, 1:2]))\n",
    "dataset = create_dataset(f, n_var=2, train_num=700)\n",
    "\n",
    "grids = np.array([3,5,10,20,30,50,75,100,150,200,300])\n",
    "\n",
    "train_losses = []\n",
    "test_losses = []\n",
    "steps = 25\n",
    "k = 3\n",
    "for i in range(grids.shape[0]):\n",
    "    if i == 0:\n",
    "        model = KANTF(width=[2, 1, 1], grid=3, k=3, seed=1, noise_scale=1.0)\n",
    "    if i != 0:\n",
    "        model = model.refine(grids[i])\n",
    "    results = model.fit(dataset, opt=\"LBFGS\", steps=steps, lr=0.0001)\n",
    "    train_losses += results['train_loss']\n",
    "    test_losses += results['test_loss']"
   ]
  },
  {
   "cell_type": "markdown",
   "id": "d6c79829-15c9-41c5-b451-81b9805e4d36",
   "metadata": {},
   "source": [
    "## Step 4: Visualize the Results\n",
    "\n",
    "We plot the training and testing losses for the first 260 steps to observe how grid refinement affects the RMSE. The Y-axis is displayed on a logarithmic scale to better highlight the trend of loss reduction.\n",
    "\n",
    "The plot below clearly shows the impact of grid refinement:\n"
   ]
  },
  {
   "cell_type": "code",
   "execution_count": 14,
   "id": "c20e00a5-afc8-4db1-b98e-925d4986816e",
   "metadata": {},
   "outputs": [
    {
     "name": "stdout",
     "output_type": "stream",
     "text": [
      "275\n"
     ]
    }
   ],
   "source": [
    "print(len(train_losses))"
   ]
  },
  {
   "cell_type": "code",
   "execution_count": 17,
   "id": "ab08fe3b-c6ec-4e15-bebc-58d2bd48a0a4",
   "metadata": {},
   "outputs": [
    {
     "data": {
      "image/png": "[encoded data removed]",
      "text/plain": [
       "<Figure size 640x480 with 1 Axes>"
      ]
     },
     "metadata": {},
     "output_type": "display_data"
    }
   ],
   "source": [
    "import matplotlib.pyplot as plt\n",
    "\n",
    "plt.plot(train_losses[:260])\n",
    "plt.plot(test_losses[:260])\n",
    "plt.legend(['train', 'test'])\n",
    "plt.ylabel('RMSE')\n",
    "plt.xlabel('step')\n",
    "plt.yscale('log')\n",
    "\n",
    "for x in range(0, 260, 25):\n",
    "    plt.axvline(x=x, color='gray', linestyle='--', linewidth=0.5)\n",
    "plt.xticks(range(0, 260, 25))\n",
    "\n",
    "plt.show()"
   ]
  },
  {
   "cell_type": "markdown",
   "id": "0647e381-b5a1-4833-8847-005285fd98f1",
   "metadata": {},
   "source": [
    "## Step 5: Analysis of Results\n",
    "\n",
    "The following observations were made from the experiment:\n",
    "\n",
    "1. Rapid Initial Loss Reduction: Each time the grid is refined, the **training loss** and **testing loss** decrease **rapidly** during the early stages of training. This indicates that refining the grid significantly improves the model's ability to approximate the target function at the beginning.\n",
    "\n",
    "2. Fast Convergence: Despite the rapid initial loss decline, the model tends to **converge quickly** after each refinement. This shows that grid refinement primarily enhances early-stage learning but offers limited long-term improvement.\n",
    "\n",
    "3. Accuracy-Efficiency Tradeoff:  \n",
    "   - **Higher Grids Improve Fitting**: Refining the grid to higher resolutions results in lower **RMSE** for both training and testing.  \n",
    "   - **Diminishing Returns**: As the grid size continues to increase, the improvement in loss becomes **marginal**.  \n",
    "   - **Generalization Instability**: Extremely high grids may lead to **unstable generalization**, as observed in cases where the test loss fluctuates.  \n",
    "   - **Increased Computational Cost**: Higher grid refinement significantly increases training time, creating an efficiency bottleneck.\n"
   ]
  },
  {
   "cell_type": "markdown",
   "id": "58396ec0-5bdc-439b-b8d3-1b46a9e95384",
   "metadata": {},
   "source": [
    "So the Key Insights:\n",
    "\n",
    "- **KAN's Fitting Potential**:  \n",
    "  The experiment above demonstrates the strong **function approximation capability** of KAN through grid refinement.  \n",
    "\n",
    "- **Grid Size Selection**:  \n",
    "  Refining the grid indiscriminately to higher resolutions is **not optimal**. While accuracy improves, the tradeoff between accuracy and efficiency becomes evident.\n",
    "\n",
    "- **Balanced Refinement**:  \n",
    "  A **reasonable grid refinement strategy** must balance accuracy, generalization, and computational cost."
   ]
  },
  {
   "cell_type": "markdown",
   "id": "505e76a4-ec09-46b9-bb9f-bc43b32f98d2",
   "metadata": {},
   "source": [
    "**And Final Recommendation for Readers:**  \n",
    "To maximize the performance of KAN:  \n",
    "- Choose grid refinement settings based on the **specific experimental goals** and available **computational resources**.  \n",
    "- Avoid excessive refinement when generalization stability or efficiency is a concern."
   ]
  },
  {
   "cell_type": "code",
   "execution_count": null,
   "id": "021615be-dc91-44b5-baf3-56e8c07f906e",
   "metadata": {},
   "outputs": [],
   "source": []
  }
 ],
 "metadata": {
  "kernelspec": {
   "display_name": "Python 3 (ipykernel)",
   "language": "python",
   "name": "python3"
  },
  "language_info": {
   "codemirror_mode": {
    "name": "ipython",
    "version": 3
   },
   "file_extension": ".py",
   "mimetype": "text/x-python",
   "name": "python",
   "nbconvert_exporter": "python",
   "pygments_lexer": "ipython3",
   "version": "3.9.7"
  }
 },
 "nbformat": 4,
 "nbformat_minor": 5
}
