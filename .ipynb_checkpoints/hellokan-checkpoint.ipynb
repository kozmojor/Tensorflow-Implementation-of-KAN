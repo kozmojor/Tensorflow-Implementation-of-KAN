{
 "cells": [
  {
   "cell_type": "markdown",
   "id": "134e7f9d",
   "metadata": {},
   "source": [
    "# Hello, KAN!"
   ]
  },
  {
   "cell_type": "code",
   "execution_count": 3,
   "id": "434c449d-7639-4088-ad3f-fc123e75ff26",
   "metadata": {},
   "outputs": [
    {
     "name": "stdout",
     "output_type": "stream",
     "text": [
      "TensorFlow 版本: 2.14.0\n",
      "是否有可用的GPU: []\n",
      "未检测到GPU，请检查配置。\n"
     ]
    }
   ],
   "source": [
    "import tensorflow as tf\n",
    "\n",
    "# 检查 TensorFlow 版本\n",
    "print(\"TensorFlow 版本:\", tf.__version__)\n",
    "\n",
    "# 查询可用设备\n",
    "print(\"是否有可用的GPU:\", tf.config.list_physical_devices('GPU'))\n",
    "\n",
    "# 输出 GPU 详细信息\n",
    "gpu_devices = tf.config.list_physical_devices('GPU')\n",
    "if gpu_devices:\n",
    "    for gpu in gpu_devices:\n",
    "        print(\"已检测到GPU:\", gpu)\n",
    "else:\n",
    "    print(\"未检测到GPU，请检查配置。\")\n"
   ]
  },
  {
   "cell_type": "code",
   "execution_count": 2,
   "id": "05b15d72-ff94-485c-9d2d-29a13e2968c8",
   "metadata": {},
   "outputs": [
    {
     "name": "stdout",
     "output_type": "stream",
     "text": [
      "False\n"
     ]
    }
   ],
   "source": [
    "import tensorflow as tf\n",
    "print(tf.test.is_built_with_cuda()) "
   ]
  },
  {
   "cell_type": "markdown",
   "id": "59cf5cd0",
   "metadata": {},
   "source": [
    "### Kolmogorov-Arnold representation theorem"
   ]
  },
  {
   "cell_type": "markdown",
   "id": "f88e5321",
   "metadata": {},
   "source": [
    "Kolmogorov-Arnold representation theorem states that if $f$ is a multivariate continuous function\n",
    "on a bounded domain, then it can be written as a finite composition of continuous functions of a\n",
    "single variable and the binary operation of addition. More specifically, for a smooth $f : [0,1]^n \\to \\mathbb{R}$,\n",
    "\n",
    "\n",
    "$$f(x) = f(x_1,...,x_n)=\\sum_{q=1}^{2n+1}\\Phi_q(\\sum_{p=1}^n \\phi_{q,p}(x_p))$$\n",
    "\n",
    "where $\\phi_{q,p}:[0,1]\\to\\mathbb{R}$ and $\\Phi_q:\\mathbb{R}\\to\\mathbb{R}$. In a sense, they showed that the only true multivariate function is addition, since every other function can be written using univariate functions and sum. However, this 2-Layer width-$(2n+1)$ Kolmogorov-Arnold representation may not be smooth due to its limited expressive power. We augment its expressive power by generalizing it to arbitrary depths and widths."
   ]
  },
  {
   "cell_type": "markdown",
   "id": "ebd8766a",
   "metadata": {},
   "source": [
    "### Kolmogorov-Arnold Network (KAN)"
   ]
  },
  {
   "cell_type": "markdown",
   "id": "2cf3b1ee",
   "metadata": {},
   "source": [
    "The Kolmogorov-Arnold representation can be written in matrix form\n",
    "\n",
    "$$f(x)={\\bf \\Phi}_{\\rm out}\\circ{\\bf \\Phi}_{\\rm in}\\circ {\\bf x}$$\n",
    "\n",
    "where \n",
    "\n",
    "$${\\bf \\Phi}_{\\rm in}= \\begin{pmatrix} \\phi_{1,1}(\\cdot) & \\cdots & \\phi_{1,n}(\\cdot) \\\\ \\vdots & & \\vdots \\\\ \\phi_{2n+1,1}(\\cdot) & \\cdots & \\phi_{2n+1,n}(\\cdot) \\end{pmatrix},\\quad {\\bf \\Phi}_{\\rm out}=\\begin{pmatrix} \\Phi_1(\\cdot) & \\cdots & \\Phi_{2n+1}(\\cdot)\\end{pmatrix}$$"
   ]
  },
  {
   "cell_type": "markdown",
   "id": "f6521452",
   "metadata": {},
   "source": [
    "We notice that both ${\\bf \\Phi}_{\\rm in}$ and ${\\bf \\Phi}_{\\rm out}$ are special cases of the following function matrix ${\\bf \\Phi}$ (with $n_{\\rm in}$ inputs, and $n_{\\rm out}$ outputs), we call a Kolmogorov-Arnold layer:\n",
    "\n",
    "$${\\bf \\Phi}= \\begin{pmatrix} \\phi_{1,1}(\\cdot) & \\cdots & \\phi_{1,n_{\\rm in}}(\\cdot) \\\\ \\vdots & & \\vdots \\\\ \\phi_{n_{\\rm out},1}(\\cdot) & \\cdots & \\phi_{n_{\\rm out},n_{\\rm in}}(\\cdot) \\end{pmatrix}$$\n",
    "\n",
    "${\\bf \\Phi}_{\\rm in}$ corresponds to $n_{\\rm in}=n, n_{\\rm out}=2n+1$, and ${\\bf \\Phi}_{\\rm out}$ corresponds to $n_{\\rm in}=2n+1, n_{\\rm out}=1$."
   ]
  },
  {
   "cell_type": "markdown",
   "id": "1b410498",
   "metadata": {},
   "source": [
    "After defining the layer, we can construct a Kolmogorov-Arnold network simply by stacking layers! Let's say we have $L$ layers, with the $l^{\\rm th}$ layer ${\\bf \\Phi}_l$ have shape $(n_{l+1}, n_{l})$. Then the whole network is\n",
    "\n",
    "$${\\rm KAN}({\\bf x})={\\bf \\Phi}_{L-1}\\circ\\cdots \\circ{\\bf \\Phi}_1\\circ{\\bf \\Phi}_0\\circ {\\bf x}$$"
   ]
  },
  {
   "cell_type": "markdown",
   "id": "54bbde9a",
   "metadata": {},
   "source": [
    "In constrast, a Multi-Layer Perceptron is interleaved by linear layers ${\\bf W}_l$ and nonlinearities $\\sigma$:\n",
    "\n",
    "$${\\rm MLP}({\\bf x})={\\bf W}_{L-1}\\circ\\sigma\\circ\\cdots\\circ {\\bf W}_1\\circ\\sigma\\circ {\\bf W}_0\\circ {\\bf x}$$"
   ]
  },
  {
   "cell_type": "markdown",
   "id": "1c5f7795",
   "metadata": {},
   "source": [
    "A KAN can be easily visualized. (1) A KAN is simply stack of KAN layers. (2) Each KAN layer can be visualized as a fully-connected layer, with a 1D function placed on each edge. Let's see an example below."
   ]
  },
  {
   "cell_type": "markdown",
   "id": "adcb5f75",
   "metadata": {},
   "source": [
    "### Get started with KANs"
   ]
  },
  {
   "cell_type": "code",
   "execution_count": 7,
   "id": "30fa86eb-6850-43d7-9b8d-aa6f7fdb7b32",
   "metadata": {
    "scrolled": true
   },
   "outputs": [
    {
     "ename": "ValueError",
     "evalue": "Exception encountered when calling layer \"kan_layer_1\" (type KANLayer).\n\nin user code:\n\n    File \"C:\\Users\\52247\\Documents\\24fall-ECBM4040\\project papers\\KAN\\TensorKAN\\tensorkan\\KANLayer.py\", line 124, in call  *\n        inputs = tf.cast(inputs, self.custom_dtype)\n\n    ValueError: Shapes must be equal rank, but are 2 and 3\n    \tFrom merging shape 0 with other shapes. for '{{node kan_layer_1/Cast/x}} = Pack[N=4, T=DT_FLOAT, axis=0](Placeholder, Placeholder_1, Placeholder_2, Placeholder_3)' with input shapes: [?,2], [?,2,2], [?,2,2], [?,2,2].\n\n\nCall arguments received by layer \"kan_layer_1\" (type KANLayer):\n  • inputs=('tf.Tensor(shape=(None, 2), dtype=float32)', 'tf.Tensor(shape=(None, 2, 2), dtype=float32)', 'tf.Tensor(shape=(None, 2, 2), dtype=float32)', 'tf.Tensor(shape=(None, 2, 2), dtype=float32)')",
     "output_type": "error",
     "traceback": [
      "\u001b[1;31m---------------------------------------------------------------------------\u001b[0m",
      "\u001b[1;31mValueError\u001b[0m                                Traceback (most recent call last)",
      "Cell \u001b[1;32mIn[7], line 10\u001b[0m\n\u001b[0;32m      8\u001b[0m inputs \u001b[38;5;241m=\u001b[39m tf\u001b[38;5;241m.\u001b[39mkeras\u001b[38;5;241m.\u001b[39mInput(shape\u001b[38;5;241m=\u001b[39m(\u001b[38;5;241m2\u001b[39m,))\n\u001b[0;32m      9\u001b[0m x \u001b[38;5;241m=\u001b[39m KANLayer(in_dim\u001b[38;5;241m=\u001b[39m\u001b[38;5;241m2\u001b[39m, out_dim\u001b[38;5;241m=\u001b[39m\u001b[38;5;241m2\u001b[39m, num\u001b[38;5;241m=\u001b[39m\u001b[38;5;241m5\u001b[39m, k\u001b[38;5;241m=\u001b[39m\u001b[38;5;241m3\u001b[39m)(inputs)\n\u001b[1;32m---> 10\u001b[0m x \u001b[38;5;241m=\u001b[39m \u001b[43mKANLayer\u001b[49m\u001b[43m(\u001b[49m\u001b[43min_dim\u001b[49m\u001b[38;5;241;43m=\u001b[39;49m\u001b[38;5;241;43m2\u001b[39;49m\u001b[43m,\u001b[49m\u001b[43m \u001b[49m\u001b[43mout_dim\u001b[49m\u001b[38;5;241;43m=\u001b[39;49m\u001b[38;5;241;43m5\u001b[39;49m\u001b[43m,\u001b[49m\u001b[43m \u001b[49m\u001b[43mnum\u001b[49m\u001b[38;5;241;43m=\u001b[39;49m\u001b[38;5;241;43m5\u001b[39;49m\u001b[43m,\u001b[49m\u001b[43m \u001b[49m\u001b[43mk\u001b[49m\u001b[38;5;241;43m=\u001b[39;49m\u001b[38;5;241;43m3\u001b[39;49m\u001b[43m)\u001b[49m\u001b[43m(\u001b[49m\u001b[43mx\u001b[49m\u001b[43m)\u001b[49m\n\u001b[0;32m     11\u001b[0m outputs \u001b[38;5;241m=\u001b[39m KANLayer(in_dim\u001b[38;5;241m=\u001b[39m\u001b[38;5;241m5\u001b[39m, out_dim\u001b[38;5;241m=\u001b[39m\u001b[38;5;241m1\u001b[39m, num\u001b[38;5;241m=\u001b[39m\u001b[38;5;241m5\u001b[39m, k\u001b[38;5;241m=\u001b[39m\u001b[38;5;241m3\u001b[39m)(x)\n\u001b[0;32m     13\u001b[0m model \u001b[38;5;241m=\u001b[39m tf\u001b[38;5;241m.\u001b[39mkeras\u001b[38;5;241m.\u001b[39mModel(inputs\u001b[38;5;241m=\u001b[39minputs, outputs\u001b[38;5;241m=\u001b[39moutputs)\n",
      "File \u001b[1;32m~\\Documents\\24fall-ECBM4040\\project papers\\KAN\\venv\\lib\\site-packages\\keras\\src\\utils\\traceback_utils.py:70\u001b[0m, in \u001b[0;36mfilter_traceback.<locals>.error_handler\u001b[1;34m(*args, **kwargs)\u001b[0m\n\u001b[0;32m     67\u001b[0m     filtered_tb \u001b[38;5;241m=\u001b[39m _process_traceback_frames(e\u001b[38;5;241m.\u001b[39m__traceback__)\n\u001b[0;32m     68\u001b[0m     \u001b[38;5;66;03m# To get the full stack trace, call:\u001b[39;00m\n\u001b[0;32m     69\u001b[0m     \u001b[38;5;66;03m# `tf.debugging.disable_traceback_filtering()`\u001b[39;00m\n\u001b[1;32m---> 70\u001b[0m     \u001b[38;5;28;01mraise\u001b[39;00m e\u001b[38;5;241m.\u001b[39mwith_traceback(filtered_tb) \u001b[38;5;28;01mfrom\u001b[39;00m \u001b[38;5;28;01mNone\u001b[39;00m\n\u001b[0;32m     71\u001b[0m \u001b[38;5;28;01mfinally\u001b[39;00m:\n\u001b[0;32m     72\u001b[0m     \u001b[38;5;28;01mdel\u001b[39;00m filtered_tb\n",
      "File \u001b[1;32m~\\AppData\\Local\\Temp\\__autograph_generated_filepi8mql3g.py:13\u001b[0m, in \u001b[0;36mouter_factory.<locals>.inner_factory.<locals>.tf__call\u001b[1;34m(self, inputs)\u001b[0m\n\u001b[0;32m     11\u001b[0m do_return \u001b[38;5;241m=\u001b[39m \u001b[38;5;28;01mFalse\u001b[39;00m\n\u001b[0;32m     12\u001b[0m retval_ \u001b[38;5;241m=\u001b[39m ag__\u001b[38;5;241m.\u001b[39mUndefinedReturnValue()\n\u001b[1;32m---> 13\u001b[0m inputs \u001b[38;5;241m=\u001b[39m ag__\u001b[38;5;241m.\u001b[39mconverted_call(ag__\u001b[38;5;241m.\u001b[39mld(tf)\u001b[38;5;241m.\u001b[39mcast, (ag__\u001b[38;5;241m.\u001b[39mld(inputs), ag__\u001b[38;5;241m.\u001b[39mld(\u001b[38;5;28mself\u001b[39m)\u001b[38;5;241m.\u001b[39mcustom_dtype), \u001b[38;5;28;01mNone\u001b[39;00m, fscope)\n\u001b[0;32m     14\u001b[0m preacts \u001b[38;5;241m=\u001b[39m ag__\u001b[38;5;241m.\u001b[39mconverted_call(ag__\u001b[38;5;241m.\u001b[39mld(tf)\u001b[38;5;241m.\u001b[39mexpand_dims, (ag__\u001b[38;5;241m.\u001b[39mld(inputs),), \u001b[38;5;28mdict\u001b[39m(axis\u001b[38;5;241m=\u001b[39m\u001b[38;5;241m1\u001b[39m), fscope)\n\u001b[0;32m     15\u001b[0m preacts \u001b[38;5;241m=\u001b[39m ag__\u001b[38;5;241m.\u001b[39mconverted_call(ag__\u001b[38;5;241m.\u001b[39mld(tf)\u001b[38;5;241m.\u001b[39mtile, (ag__\u001b[38;5;241m.\u001b[39mld(preacts), [\u001b[38;5;241m1\u001b[39m, ag__\u001b[38;5;241m.\u001b[39mld(\u001b[38;5;28mself\u001b[39m)\u001b[38;5;241m.\u001b[39mout_dim, \u001b[38;5;241m1\u001b[39m]), \u001b[38;5;28;01mNone\u001b[39;00m, fscope)\n",
      "\u001b[1;31mValueError\u001b[0m: Exception encountered when calling layer \"kan_layer_1\" (type KANLayer).\n\nin user code:\n\n    File \"C:\\Users\\52247\\Documents\\24fall-ECBM4040\\project papers\\KAN\\TensorKAN\\tensorkan\\KANLayer.py\", line 124, in call  *\n        inputs = tf.cast(inputs, self.custom_dtype)\n\n    ValueError: Shapes must be equal rank, but are 2 and 3\n    \tFrom merging shape 0 with other shapes. for '{{node kan_layer_1/Cast/x}} = Pack[N=4, T=DT_FLOAT, axis=0](Placeholder, Placeholder_1, Placeholder_2, Placeholder_3)' with input shapes: [?,2], [?,2,2], [?,2,2], [?,2,2].\n\n\nCall arguments received by layer \"kan_layer_1\" (type KANLayer):\n  • inputs=('tf.Tensor(shape=(None, 2), dtype=float32)', 'tf.Tensor(shape=(None, 2, 2), dtype=float32)', 'tf.Tensor(shape=(None, 2, 2), dtype=float32)', 'tf.Tensor(shape=(None, 2, 2), dtype=float32)')"
     ]
    }
   ],
   "source": [
    "import tensorflow as tf\n",
    "import numpy as np\n",
    "\n",
    "# 从刚刚实现的 KANLayer TensorFlow 版本导入类\n",
    "from tensorkan.KANLayer import KANLayer\n",
    "\n",
    "# 定义模型\n",
    "inputs = tf.keras.Input(shape=(2,))\n",
    "x = KANLayer(in_dim=2, out_dim=2, num=5, k=3)(inputs)\n",
    "x = KANLayer(in_dim=2, out_dim=5, num=5, k=3)(x)\n",
    "outputs = KANLayer(in_dim=5, out_dim=1, num=5, k=3)(x)\n",
    "\n",
    "model = tf.keras.Model(inputs=inputs, outputs=outputs)\n",
    "\n",
    "# 查看模型摘要\n",
    "model.summary()\n",
    "\n",
    "# 生成示例数据 (使用假数据，替代 tfkan 中的 `create_dataset`)\n",
    "def generate_example_data(n_samples=1000):\n",
    "    x_train = np.random.uniform(-1, 1, size=(n_samples, 2)).astype(np.float32)\n",
    "    y_train = (x_train[:, 0] ** 2 + x_train[:, 1] ** 2).reshape(-1, 1).astype(np.float32)\n",
    "    x_test = np.random.uniform(-1, 1, size=(n_samples, 2)).astype(np.float32)\n",
    "    y_test = (x_test[:, 0] ** 2 + x_test[:, 1] ** 2).reshape(-1, 1).astype(np.float32)\n",
    "    return (x_train, y_train), (x_test, y_test)\n",
    "\n",
    "# 数据集\n",
    "(x_train, y_train), (x_test, y_test) = generate_example_data()\n",
    "\n",
    "x_train = tf.cast(x_train, tf.float64)\n",
    "y_train = tf.cast(y_train, tf.float64)\n",
    "x_test = tf.cast(x_test, tf.float64)\n",
    "y_test = tf.cast(y_test, tf.float64)\n",
    "\n",
    "# 编译模型\n",
    "model.compile(optimizer=tf.keras.optimizers.Adam(learning_rate=0.01),\n",
    "              loss='mean_squared_error',\n",
    "              metrics=['mean_squared_error'])\n",
    "\n",
    "# 训练模型\n",
    "model.fit(x_train, y_train, validation_data=(x_test, y_test), epochs=10, batch_size=32)\n",
    "\n",
    "# 测试模型性能\n",
    "loss, mse = model.evaluate(x_test, y_test)\n",
    "print(f\"Test Loss: {loss}, Test MSE: {mse}\")\n"
   ]
  },
  {
   "cell_type": "markdown",
   "id": "2571d531",
   "metadata": {},
   "source": [
    "Initialize KAN"
   ]
  },
  {
   "cell_type": "code",
   "execution_count": null,
   "id": "6419a866-667b-4e70-b1c4-edea9401718a",
   "metadata": {},
   "outputs": [],
   "source": [
    "from tfkan import layers\n",
    "from tfkan.layers import DenseKAN, Conv2DKAN\n",
    "import tensorflow as tf\n",
    "from tensorflow.keras.layers import Input"
   ]
  },
  {
   "cell_type": "code",
   "execution_count": null,
   "id": "ff31bc41-3e36-4289-8ad8-7fb076be9a3a",
   "metadata": {},
   "outputs": [],
   "source": [
    "model = tf.keras.models.Sequential([\n",
    "    tf.keras.layers.Input(shape=(2,)),\n",
    "    DenseKAN(2),  \n",
    "    DenseKAN(5),\n",
    "    DenseKAN(1)\n",
    "])"
   ]
  },
  {
   "cell_type": "code",
   "execution_count": null,
   "id": "7835973a-48be-42f2-8dac-aff71ce86e3d",
   "metadata": {
    "scrolled": true
   },
   "outputs": [],
   "source": [
    "model.summary()"
   ]
  },
  {
   "cell_type": "code",
   "execution_count": null,
   "id": "4134e900-57bc-4026-b97f-635c58601fa5",
   "metadata": {},
   "outputs": [],
   "source": [
    "import numpy as np\n",
    "\n",
    "def create_dataset_tf(f, \n",
    "                      n_var=2, \n",
    "                      f_mode='col',\n",
    "                      ranges=[-1, 1],\n",
    "                      train_num=1000, \n",
    "                      test_num=1000,\n",
    "                      normalize_input=False,\n",
    "                      normalize_label=False,\n",
    "                      seed=0):\n",
    "    np.random.seed(seed)\n",
    "    tf.random.set_seed(seed)\n",
    "\n",
    "    ranges = np.array(ranges * n_var).reshape(n_var, 2) if len(np.array(ranges).shape) == 1 else np.array(ranges)\n",
    "\n",
    "    train_input = np.zeros((train_num, n_var))\n",
    "    test_input = np.zeros((test_num, n_var))\n",
    "\n",
    "    for i in range(n_var):\n",
    "        train_input[:, i] = np.random.rand(train_num) * (ranges[i, 1] - ranges[i, 0]) + ranges[i, 0]\n",
    "        test_input[:, i] = np.random.rand(test_num) * (ranges[i, 1] - ranges[i, 0]) + ranges[i, 0]\n",
    "\n",
    "    train_input = tf.convert_to_tensor(train_input, dtype=tf.float32)\n",
    "    test_input = tf.convert_to_tensor(test_input, dtype=tf.float32)\n",
    "\n",
    "    if f_mode == 'col':\n",
    "        train_label = f(train_input)\n",
    "        test_label = f(test_input)\n",
    "    elif f_mode == 'row':\n",
    "        train_label = f(tf.transpose(train_input))\n",
    "        test_label = f(tf.transpose(test_input))\n",
    "    else:\n",
    "        raise ValueError(f'f_mode {f_mode} not recognized')\n",
    "\n",
    "    if len(train_label.shape) == 1:\n",
    "        train_label = tf.expand_dims(train_label, axis=1)\n",
    "        test_label = tf.expand_dims(test_label, axis=1)\n",
    "\n",
    "    if normalize_input:\n",
    "        mean_input = tf.reduce_mean(train_input, axis=0, keepdims=True)\n",
    "        std_input = tf.math.reduce_std(train_input, axis=0, keepdims=True)\n",
    "        train_input = (train_input - mean_input) / std_input\n",
    "        test_input = (test_input - mean_input) / std_input\n",
    "\n",
    "    if normalize_label:\n",
    "        mean_label = tf.reduce_mean(train_label, axis=0, keepdims=True)\n",
    "        std_label = tf.math.reduce_std(train_label, axis=0, keepdims=True)\n",
    "        train_label = (train_label - mean_label) / std_label\n",
    "        test_label = (test_label - mean_label) / std_label\n",
    "\n",
    "    dataset = {\n",
    "        'train_input': train_input,\n",
    "        'test_input': test_input,\n",
    "        'train_label': train_label,\n",
    "        'test_label': test_label,\n",
    "    }\n",
    "    return dataset\n"
   ]
  },
  {
   "cell_type": "code",
   "execution_count": null,
   "id": "2659a69f-075e-4f84-a129-b739d0f32a9c",
   "metadata": {},
   "outputs": [],
   "source": [
    "f = lambda x: tf.math.exp(tf.math.sin(np.pi * x[:, 0:1]) + tf.math.square(x[:, 1:2]))\n",
    "dataset = create_dataset_tf(f, n_var=2, train_num=1000)"
   ]
  },
  {
   "cell_type": "code",
   "execution_count": null,
   "id": "16c177c3-b4ed-4bbb-adc8-0764699639f8",
   "metadata": {},
   "outputs": [],
   "source": [
    "# 查看训练输入的形状\n",
    "print(dataset['train_input'].shape)\n",
    "\n",
    "# 查看测试输入的形状\n",
    "print(dataset['test_input'].shape)\n",
    "\n",
    "# 查看训练标签的形状\n",
    "print(dataset['train_label'].shape)\n",
    "\n",
    "# 查看测试标签的形状\n",
    "print(dataset['test_label'].shape)\n"
   ]
  },
  {
   "cell_type": "code",
   "execution_count": null,
   "id": "c6e30c56-42ea-42e8-8c2c-fae1555a357a",
   "metadata": {},
   "outputs": [],
   "source": [
    "x_train = dataset['train_input']\n",
    "y_train = dataset['train_label']\n",
    "x_test = dataset['test_input']\n",
    "y_test = dataset['test_label']"
   ]
  },
  {
   "cell_type": "code",
   "execution_count": null,
   "id": "d6b2130e-7733-4644-829b-1ae25d5c8213",
   "metadata": {
    "scrolled": true
   },
   "outputs": [],
   "source": [
    "model.compile(\n",
    "    optimizer=tf.keras.optimizers.Adam(learning_rate=1e-3), \n",
    "    loss='mse', metrics=['mae'])\n",
    "history = model.fit(x_train, y_train, epochs=100, batch_size=64)"
   ]
  },
  {
   "cell_type": "code",
   "execution_count": 1,
   "id": "2075ef56",
   "metadata": {},
   "outputs": [
    {
     "name": "stdout",
     "output_type": "stream",
     "text": [
      "cpu\n",
      "checkpoint directory created: ./model\n",
      "saving model version 0.0\n"
     ]
    }
   ],
   "source": [
    "from kan import *\n",
    "torch.set_default_dtype(torch.float64)\n",
    "\n",
    "device = torch.device('cuda' if torch.cuda.is_available() else 'cpu')\n",
    "print(device)\n",
    "\n",
    "# create a KAN: 2D inputs, 1D output, and 5 hidden neurons. cubic spline (k=3), 5 grid intervals (grid=5).\n",
    "model = KAN(width=[2,5,1], grid=3, k=3, seed=42, device=device)"
   ]
  },
  {
   "cell_type": "markdown",
   "id": "3d72e076",
   "metadata": {},
   "source": [
    "Create dataset"
   ]
  },
  {
   "cell_type": "code",
   "execution_count": 2,
   "id": "46717e8b",
   "metadata": {},
   "outputs": [
    {
     "data": {
      "text/plain": [
       "(torch.Size([1000, 2]), torch.Size([1000, 1]))"
      ]
     },
     "execution_count": 2,
     "metadata": {},
     "output_type": "execute_result"
    }
   ],
   "source": [
    "from kan.utils import create_dataset\n",
    "# create dataset f(x,y) = exp(sin(pi*x)+y^2)\n",
    "f = lambda x: torch.exp(torch.sin(torch.pi*x[:,[0]]) + x[:,[1]]**2)\n",
    "dataset = create_dataset(f, n_var=2, device=device)\n",
    "dataset['train_input'].shape, dataset['train_label'].shape"
   ]
  },
  {
   "cell_type": "markdown",
   "id": "8c6add1d",
   "metadata": {},
   "source": [
    "Plot KAN at initialization"
   ]
  },
  {
   "cell_type": "code",
   "execution_count": 3,
   "id": "ac76f858",
   "metadata": {},
   "outputs": [
    {
     "data": {
      "image/png": "[encoded data removed]",
      "text/plain": [
       "<Figure size 500x400 with 22 Axes>"
      ]
     },
     "metadata": {},
     "output_type": "display_data"
    }
   ],
   "source": [
    "# plot KAN at initialization\n",
    "model(dataset['train_input']);\n",
    "model.plot()"
   ]
  },
  {
   "cell_type": "markdown",
   "id": "ddf67e30",
   "metadata": {},
   "source": [
    "Train KAN with sparsity regularization"
   ]
  },
  {
   "cell_type": "code",
   "execution_count": 4,
   "id": "97111d75",
   "metadata": {},
   "outputs": [
    {
     "name": "stderr",
     "output_type": "stream",
     "text": [
      "| train_loss: 1.86e-02 | test_loss: 1.79e-02 | reg: 7.17e+00 | : 100%|█| 50/50 [01:26<00:00,  1.72s/"
     ]
    },
    {
     "name": "stdout",
     "output_type": "stream",
     "text": [
      "saving model version 0.1\n"
     ]
    },
    {
     "name": "stderr",
     "output_type": "stream",
     "text": [
      "\n"
     ]
    }
   ],
   "source": [
    "# train the model\n",
    "model.fit(dataset, opt=\"LBFGS\", steps=50, lamb=0.001);"
   ]
  },
  {
   "cell_type": "markdown",
   "id": "2f30c3ab",
   "metadata": {},
   "source": [
    "Plot trained KAN"
   ]
  },
  {
   "cell_type": "code",
   "execution_count": 5,
   "id": "92a4f67a",
   "metadata": {},
   "outputs": [
    {
     "data": {
      "image/png": "[encoded data removed]",
      "text/plain": [
       "<Figure size 500x400 with 22 Axes>"
      ]
     },
     "metadata": {},
     "output_type": "display_data"
    }
   ],
   "source": [
    "model.plot()"
   ]
  },
  {
   "cell_type": "markdown",
   "id": "576856cf",
   "metadata": {},
   "source": [
    "Prune KAN and replot"
   ]
  },
  {
   "cell_type": "code",
   "execution_count": 6,
   "id": "7fe6fb12",
   "metadata": {},
   "outputs": [
    {
     "name": "stdout",
     "output_type": "stream",
     "text": [
      "saving model version 0.2\n"
     ]
    },
    {
     "data": {
      "image/png": "[encoded data removed]",
      "text/plain": [
       "<Figure size 500x400 with 6 Axes>"
      ]
     },
     "metadata": {},
     "output_type": "display_data"
    }
   ],
   "source": [
    "model = model.prune()\n",
    "model.plot()"
   ]
  },
  {
   "cell_type": "markdown",
   "id": "bd08ad99",
   "metadata": {},
   "source": [
    "Continue training and replot"
   ]
  },
  {
   "cell_type": "code",
   "execution_count": null,
   "id": "18a2db11",
   "metadata": {},
   "outputs": [],
   "source": [
    "model.fit(dataset, opt=\"LBFGS\", steps=50);"
   ]
  },
  {
   "cell_type": "code",
   "execution_count": null,
   "id": "8768d56c",
   "metadata": {},
   "outputs": [],
   "source": [
    "model = model.refine(10)"
   ]
  },
  {
   "cell_type": "code",
   "execution_count": null,
   "id": "46f73098",
   "metadata": {},
   "outputs": [],
   "source": [
    "model.fit(dataset, opt=\"LBFGS\", steps=50);"
   ]
  },
  {
   "cell_type": "markdown",
   "id": "cf35d505",
   "metadata": {},
   "source": [
    "Automatically or manually set activation functions to be symbolic"
   ]
  },
  {
   "cell_type": "code",
   "execution_count": null,
   "id": "b3c0642b",
   "metadata": {},
   "outputs": [],
   "source": [
    "mode = \"auto\" # \"manual\"\n",
    "\n",
    "if mode == \"manual\":\n",
    "    # manual mode\n",
    "    model.fix_symbolic(0,0,0,'sin');\n",
    "    model.fix_symbolic(0,1,0,'x^2');\n",
    "    model.fix_symbolic(1,0,0,'exp');\n",
    "elif mode == \"auto\":\n",
    "    # automatic mode\n",
    "    lib = ['x','x^2','x^3','x^4','exp','log','sqrt','tanh','sin','abs']\n",
    "    model.auto_symbolic(lib=lib)"
   ]
  },
  {
   "cell_type": "markdown",
   "id": "821ba616",
   "metadata": {},
   "source": [
    "Continue training till machine precision"
   ]
  },
  {
   "cell_type": "code",
   "execution_count": null,
   "id": "c0800415",
   "metadata": {},
   "outputs": [],
   "source": [
    "model.fit(dataset, opt=\"LBFGS\", steps=50);"
   ]
  },
  {
   "cell_type": "markdown",
   "id": "e39da499",
   "metadata": {},
   "source": [
    "Obtain the symbolic formula"
   ]
  },
  {
   "cell_type": "code",
   "execution_count": null,
   "id": "bf44f7e0",
   "metadata": {},
   "outputs": [],
   "source": [
    "from kan.utils import ex_round\n",
    "\n",
    "ex_round(model.symbolic_formula()[0][0],4)"
   ]
  },
  {
   "cell_type": "code",
   "execution_count": null,
   "id": "16e635f0",
   "metadata": {},
   "outputs": [],
   "source": [
    "        >>> # see more interactive examples in demos\n",
    "        >>> model = KAN(width=[2,3,1], grid=3, k=3, noise_scale=1.0)\n",
    "        >>> x = torch.normal(0,1,size=(100,2))\n",
    "        >>> model(x) # do a forward pass to obtain model.acts\n",
    "        >>> model.plot()"
   ]
  },
  {
   "cell_type": "code",
   "execution_count": null,
   "id": "7797129e-1915-494f-b50a-afda425b14f2",
   "metadata": {
    "scrolled": true
   },
   "outputs": [],
   "source": [
    "from kan import *\n",
    "model = KAN(width=[2,3,1], grid=3, k=3, noise_scale=1.0)\n",
    "x = torch.normal(0,1,size=(100,2))\n",
    "model(x)"
   ]
  },
  {
   "cell_type": "code",
   "execution_count": null,
   "id": "b2850014-5117-48d9-ba7d-60eab8052715",
   "metadata": {},
   "outputs": [],
   "source": [
    "    >>> model = KAN(width=[2,3,1], grid=3, k=3, noise_scale=1.0)\n",
    "    >>> x = torch.normal(0,1,size=(100,2))\n",
    "    >>> model(x) # do a forward pass to obtain model.acts\n",
    "    >>> model.plot()"
   ]
  },
  {
   "cell_type": "code",
   "execution_count": null,
   "id": "682004c2-b76e-4119-b448-d93fbeb7d64a",
   "metadata": {},
   "outputs": [],
   "source": [
    "from tensorkan.MultKAN import MultKAN as KANTF\n",
    "import tensorflow as tf\n",
    "from tensorkan.KANLayer import KANLayer  # 假设 KANLayer 在这个路径下\n",
    "\n",
    "# 定义模型，传递与 PyTorch 版一致的参数\n",
    "model = KANTF(width=[2, 5, 1], grid=3, k=3, noise_scale=1.0)\n",
    "\n",
    "# 输入数据\n",
    "x = tf.random.normal((100, 2), dtype=tf.float64)\n",
    "\n",
    "# 前向传播\n",
    "y = model(x)"
   ]
  },
  {
   "cell_type": "code",
   "execution_count": null,
   "id": "8ca48190-25d0-45ae-b1d6-0206370d2e47",
   "metadata": {},
   "outputs": [],
   "source": [
    "model.plot()"
   ]
  },
  {
   "cell_type": "code",
   "execution_count": 22,
   "id": "cda1b33e-0250-46f6-bc97-32525c5c0a0c",
   "metadata": {},
   "outputs": [
    {
     "name": "stdout",
     "output_type": "stream",
     "text": [
      "checkpoint directory created: ./model\n",
      "saving model version 0.0\n"
     ]
    },
    {
     "data": {
      "image/png": "[encoded data removed]",
      "text/plain": [
       "<Figure size 500x400 with 22 Axes>"
      ]
     },
     "metadata": {},
     "output_type": "display_data"
    }
   ],
   "source": [
    "from tensorkan.utils import create_dataset\n",
    "import numpy as np\n",
    "from tensorkan.MultKAN import MultKAN as KANTF\n",
    "import tensorflow as tf\n",
    "from tensorkan.KANLayer import KANLayer  # 假设 KANLayer 在这个路径下\n",
    "\n",
    "# 定义模型，传递与 PyTorch 版一致的参数\n",
    "model = KANTF(width=[2, 5, 1], grid=300, k=3, noise_scale=1.0)\n",
    "f = lambda x: tf.math.exp(tf.math.sin(np.pi * x[:, 0:1]) + tf.math.square(x[:, 1:2]))\n",
    "dataset = create_dataset(    \n",
    "    f, n_var=2,\n",
    "    train_num=10000,\n",
    "    test_num=1000,\n",
    "    ranges=[(-10, 10), (-10, 10)])\n",
    "y = model(dataset['train_input'])\n",
    "model.plot()"
   ]
  },
  {
   "cell_type": "code",
   "execution_count": 1,
   "id": "efc14deb-177b-47aa-8d60-d4c616028f29",
   "metadata": {},
   "outputs": [
    {
     "name": "stdout",
     "output_type": "stream",
     "text": [
      "checkpoint directory created: ./model\n",
      "saving model version 0.0\n"
     ]
    },
    {
     "name": "stderr",
     "output_type": "stream",
     "text": [
      "\n",
      " train_loss: 1.40e-02 | test_loss: 1.37e-02 | reg: 9.04e+00 |: 100%|█| 40/40 [04:26<00:00,  6.65s/i"
     ]
    },
    {
     "name": "stdout",
     "output_type": "stream",
     "text": [
      "Saving model version 0.1\n"
     ]
    },
    {
     "data": {
      "image/png": "[encoded data removed]",
      "text/plain": [
       "<Figure size 500x400 with 22 Axes>"
      ]
     },
     "metadata": {},
     "output_type": "display_data"
    }
   ],
   "source": [
    "from tensorkan.utils import create_dataset\n",
    "import numpy as np\n",
    "from tensorkan.MultKAN import MultKAN as KANTF\n",
    "import tensorflow as tf\n",
    "from tensorkan.KANLayer import KANLayer  # 假设 KANLayer 在这个路径下\n",
    "\n",
    "model = KANTF(width=[2, 5, 1], grid=3, k=3, noise_scale=1.0)\n",
    "f = lambda x: tf.math.exp(tf.math.sin(np.pi * x[:, 0:1]) + tf.math.square(x[:, 1:2]))\n",
    "dataset = create_dataset(f, n_var=2, train_num=1000)\n",
    "\n",
    "# y = model(dataset['train_input'])\n",
    "model.fit(dataset, opt=\"LBFGS\", steps=40, lamb=0.001, lr=0.0001);\n",
    "# model.fit(dataset, opt=\"Adam\", steps=10);\n",
    "model.plot()"
   ]
  },
  {
   "cell_type": "code",
   "execution_count": 2,
   "id": "0c113100-c4de-4e68-b04f-8f7e51a3b7da",
   "metadata": {
    "scrolled": true
   },
   "outputs": [
    {
     "name": "stdout",
     "output_type": "stream",
     "text": [
      "Saving model version 0.2\n"
     ]
    },
    {
     "data": {
      "image/png": "[encoded data removed]",
      "text/plain": [
       "<Figure size 500x400 with 6 Axes>"
      ]
     },
     "metadata": {},
     "output_type": "display_data"
    }
   ],
   "source": [
    "model = model.prune()\n",
    "model.plot()"
   ]
  },
  {
   "cell_type": "code",
   "execution_count": 3,
   "id": "bfc9803b-1be1-4a23-8457-d1f2fc471d31",
   "metadata": {},
   "outputs": [
    {
     "name": "stderr",
     "output_type": "stream",
     "text": [
      "| train_loss: 1.36e-02 | test_loss: 1.27e-02 | reg: 7.92e+00 |: 100%|█| 50/50 [04:38<00:00,  5.57s/i"
     ]
    },
    {
     "name": "stdout",
     "output_type": "stream",
     "text": [
      "Saving model version 0.3\n"
     ]
    },
    {
     "name": "stderr",
     "output_type": "stream",
     "text": [
      "\n"
     ]
    }
   ],
   "source": [
    "model.fit(dataset, opt=\"LBFGS\", steps=50, lamb=0.001, lr=0.0001);"
   ]
  },
  {
   "cell_type": "code",
   "execution_count": 4,
   "id": "1b0c8992-fc90-45c5-ad06-4f86026ff1ba",
   "metadata": {},
   "outputs": [
    {
     "data": {
      "image/png": "[encoded data removed]",
      "text/plain": [
       "<Figure size 500x400 with 6 Axes>"
      ]
     },
     "metadata": {},
     "output_type": "display_data"
    }
   ],
   "source": [
    "model.plot()"
   ]
  },
  {
   "cell_type": "code",
   "execution_count": 5,
   "id": "5b324f8f-c038-4070-a696-69ecb0dd7ac3",
   "metadata": {},
   "outputs": [
    {
     "name": "stdout",
     "output_type": "stream",
     "text": [
      "Saving model version 0.4\n"
     ]
    }
   ],
   "source": [
    "model = model.refine(10)"
   ]
  },
  {
   "cell_type": "code",
   "execution_count": 6,
   "id": "1761c6f9-e556-4069-88de-86e61c759636",
   "metadata": {},
   "outputs": [
    {
     "name": "stderr",
     "output_type": "stream",
     "text": [
      "| train_loss: 3.50e-04 | test_loss: 3.54e-04 | reg: 7.92e+00 |: 100%|█| 50/50 [03:22<00:00,  4.05s/i"
     ]
    },
    {
     "name": "stdout",
     "output_type": "stream",
     "text": [
      "WARNING:tensorflow:Model's `__init__()` arguments contain non-serializable objects. Please implement a `get_config()` method in the subclassed Model for proper saving and loading. Defaulting to empty config.\n",
      "WARNING:tensorflow:Model's `__init__()` arguments contain non-serializable objects. Please implement a `get_config()` method in the subclassed Model for proper saving and loading. Defaulting to empty config.\n",
      "Saving model version 0.5\n"
     ]
    },
    {
     "name": "stderr",
     "output_type": "stream",
     "text": [
      "\n"
     ]
    }
   ],
   "source": [
    "model.fit(dataset, opt=\"LBFGS\", steps=50);"
   ]
  },
  {
   "cell_type": "code",
   "execution_count": 7,
   "id": "2098e78f-33ee-47f4-bdbd-9004f16ee0f8",
   "metadata": {},
   "outputs": [
    {
     "data": {
      "image/png": "[encoded data removed]",
      "text/plain": [
       "<Figure size 500x400 with 6 Axes>"
      ]
     },
     "metadata": {},
     "output_type": "display_data"
    }
   ],
   "source": [
    "model.plot()"
   ]
  },
  {
   "cell_type": "code",
   "execution_count": 8,
   "id": "81cdd0d0-5718-4acc-8a2c-623e1d7528c4",
   "metadata": {},
   "outputs": [
    {
     "name": "stdout",
     "output_type": "stream",
     "text": [
      "r2 is 1.0000008344650269\n",
      "WARNING:tensorflow:Model's `__init__()` arguments contain non-serializable objects. Please implement a `get_config()` method in the subclassed Model for proper saving and loading. Defaulting to empty config.\n",
      "WARNING:tensorflow:Model's `__init__()` arguments contain non-serializable objects. Please implement a `get_config()` method in the subclassed Model for proper saving and loading. Defaulting to empty config.\n",
      "Saving model version 0.6\n",
      "r2 is 1.0000008344650269\n",
      "WARNING:tensorflow:Model's `__init__()` arguments contain non-serializable objects. Please implement a `get_config()` method in the subclassed Model for proper saving and loading. Defaulting to empty config.\n",
      "WARNING:tensorflow:Model's `__init__()` arguments contain non-serializable objects. Please implement a `get_config()` method in the subclassed Model for proper saving and loading. Defaulting to empty config.\n",
      "Saving model version 0.7\n",
      "r2 is 1.0000009536743164\n",
      "WARNING:tensorflow:Model's `__init__()` arguments contain non-serializable objects. Please implement a `get_config()` method in the subclassed Model for proper saving and loading. Defaulting to empty config.\n",
      "WARNING:tensorflow:Model's `__init__()` arguments contain non-serializable objects. Please implement a `get_config()` method in the subclassed Model for proper saving and loading. Defaulting to empty config.\n",
      "Saving model version 0.8\n"
     ]
    }
   ],
   "source": [
    "mode = \"manual\" # \"manual\"\n",
    "\n",
    "if mode == \"manual\":\n",
    "    # manual mode\n",
    "    model.fix_symbolic(0,0,0,'sin');\n",
    "    model.fix_symbolic(0,1,0,'x^2');\n",
    "    model.fix_symbolic(1,0,0,'exp');\n",
    "elif mode == \"auto\":\n",
    "    # automatic mode\n",
    "    lib = ['x','x^2','x^3','x^4','exp','log','sqrt','tanh','sin','abs']\n",
    "    model.auto_symbolic(lib=lib)"
   ]
  },
  {
   "cell_type": "code",
   "execution_count": null,
   "id": "e01c6586-800c-4105-a55d-918311972ce4",
   "metadata": {},
   "outputs": [],
   "source": [
    "model.fit(dataset, opt=\"LBFGS\", steps=3);"
   ]
  },
  {
   "cell_type": "code",
   "execution_count": 10,
   "id": "ef73429f-6339-4c4a-ab52-f2014c38fa67",
   "metadata": {},
   "outputs": [
    {
     "data": {
      "text/latex": [
       "$\\displaystyle 1.0002 e^{0.9999 \\left(- x_{2} - 0.0001\\right)^{2} + 0.9999 \\sin{\\left(3.1418 x_{1} + 0.0002 \\right)}} - 0.000200271606445313$"
      ],
      "text/plain": [
       "1.0002*exp(0.9999*(-x_2 - 0.e-4)**2 + 0.9999*sin(3.1418*x_1 + 0.0002)) - 0.000200271606445313"
      ]
     },
     "execution_count": 10,
     "metadata": {},
     "output_type": "execute_result"
    }
   ],
   "source": [
    "from kan.utils import ex_round\n",
    "\n",
    "ex_round(model.symbolic_formula()[0][0],4)"
   ]
  },
  {
   "cell_type": "code",
   "execution_count": 1,
   "id": "b62e9706-dd8a-4b39-b705-093eab2dd99b",
   "metadata": {},
   "outputs": [
    {
     "data": {
      "text/latex": [
       "$\\displaystyle f(x) = \\exp\\left( \\sin(\\pi x_1) + x_2^2 \\right)$"
      ],
      "text/plain": [
       "<IPython.core.display.Math object>"
      ]
     },
     "metadata": {},
     "output_type": "display_data"
    }
   ],
   "source": [
    "from IPython.display import display, Math\n",
    "\n",
    "latex_code = r\"f(x) = \\exp\\left( \\sin(\\pi x_1) + x_2^2 \\right)\"\n",
    "display(Math(latex_code))"
   ]
  },
  {
   "cell_type": "code",
   "execution_count": null,
   "id": "6dfa05a6-21c4-4352-a96d-1314f411c631",
   "metadata": {},
   "outputs": [],
   "source": []
  }
 ],
 "metadata": {
  "kernelspec": {
   "display_name": "Python 3 (ipykernel)",
   "language": "python",
   "name": "python3"
  },
  "language_info": {
   "codemirror_mode": {
    "name": "ipython",
    "version": 3
   },
   "file_extension": ".py",
   "mimetype": "text/x-python",
   "name": "python",
   "nbconvert_exporter": "python",
   "pygments_lexer": "ipython3",
   "version": "3.9.7"
  }
 },
 "nbformat": 4,
 "nbformat_minor": 5
}
