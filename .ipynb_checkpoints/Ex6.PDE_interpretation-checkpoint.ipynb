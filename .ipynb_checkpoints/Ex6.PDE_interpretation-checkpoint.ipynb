{
 "cells": [
  {
   "cell_type": "markdown",
   "id": "5d904dee",
   "metadata": {},
   "source": [
    "# Example 6: Solving Partial Differential Equation (PDE)"
   ]
  },
  {
   "cell_type": "markdown",
   "id": "7d568912",
   "metadata": {},
   "source": [
    "We aim to solve a 2D poisson equation $\\nabla^2 f(x,y) = -2\\pi^2{\\rm sin}(\\pi x){\\rm sin}(\\pi y)$, with boundary condition $f(-1,y)=f(1,y)=f(x,-1)=f(x,1)=0$. The ground truth solution is $f(x,y)={\\rm sin}(\\pi x){\\rm sin}(\\pi y)$.\n",
    "\n",
    "**Objective**: PDE solving on KAN"
   ]
  },
  {
   "cell_type": "markdown",
   "id": "57d5465e914320f8",
   "metadata": {},
   "source": [
    "## Step 1: Import Libraries and Define the Jacobian and Relevant Functions"
   ]
  },
  {
   "cell_type": "code",
   "execution_count": null,
   "id": "d16e1dcec5d5a881",
   "metadata": {},
   "outputs": [],
   "source": [
    "import tensorflow as tf\n",
    "import numpy as np\n",
    "from tqdm import tqdm\n",
    "import matplotlib.pyplot as plt\n",
    "from tensorkan.MultKAN import MultKAN as KANTF\n",
    "from tensorkan.LBFGS import LBFGS\n",
    "\n",
    "\n",
    "\n",
    "# Problem dimensions and parameters\n",
    "dim = 2\n",
    "np_i = 21  # Number of interior points along each dimension\n",
    "np_b = 21  # Number of boundary points along each dimension\n",
    "ranges = [-1, 1]  # Domain range\n",
    "\n",
    "# Define the batch Jacobian function using tf.GradientTape\n",
    "def batch_jacobian(func, x, create_graph=False):\n",
    "    \"\"\"\n",
    "    Computes the Jacobian matrix for a batch of inputs.\n",
    "\n",
    "    Args:\n",
    "        func: Callable\n",
    "            A function mapping x to its output y.\n",
    "        x: tf.Tensor\n",
    "            Input tensor of shape (Batch, Length).\n",
    "        create_graph: bool\n",
    "            Whether to create a graph for further differentiation.\n",
    "\n",
    "    Returns:\n",
    "        jacobian: tf.Tensor\n",
    "            The Jacobian matrix of shape (Batch, Length, Output_Dim).\n",
    "    \"\"\"\n",
    "    with tf.GradientTape(persistent=True) as tape:\n",
    "        tape.watch(x)\n",
    "        outputs = func(x)\n",
    "\n",
    "    # Compute the Jacobian matrix\n",
    "    raw_jacobian = tape.batch_jacobian(outputs, x, experimental_use_pfor=False)\n",
    "\n",
    "    return raw_jacobian\n",
    "\n",
    "# Define the analytical solution and source term\n",
    "sol_fun = lambda x: tf.sin(np.pi * x[:, 0:1]) * tf.sin(np.pi * x[:, 1:2])\n",
    "source_fun = lambda x: -2 * np.pi**2 * tf.sin(np.pi * x[:, 0:1]) * tf.sin(np.pi * x[:, 1:2])\n",
    "\n",
    "# Interior points (mesh grid)\n",
    "x_mesh = np.linspace(ranges[0], ranges[1], num=np_i, dtype=np.float32)\n",
    "y_mesh = np.linspace(ranges[0], ranges[1], num=np_i, dtype=np.float32)\n",
    "X, Y = np.meshgrid(x_mesh, y_mesh, indexing=\"ij\")\n",
    "x_i = tf.transpose(tf.stack([tf.reshape(X, [-1]), tf.reshape(Y, [-1])]), perm=[1, 0])\n",
    "\n",
    "# Boundary points (4 sides)\n",
    "def helper(X, Y):\n",
    "    return tf.transpose(tf.stack([tf.reshape(X, [-1]), tf.reshape(Y, [-1])]), perm=[1, 0])\n",
    "\n",
    "xb1 = helper(X[0, :], Y[0, :])  # Bottom boundary\n",
    "xb2 = helper(X[-1, :], Y[-1, :])  # Top boundary\n",
    "xb3 = helper(X[:, 0], Y[:, 0])  # Left boundary\n",
    "xb4 = helper(X[:, -1], Y[:, -1])  # Right boundary\n",
    "x_b = tf.concat([xb1, xb2, xb3, xb4], axis=0)  # Combine all boundary points\n",
    "\n",
    "# Hyperparameters\n",
    "steps = 20\n",
    "alpha = 0.01\n",
    "log = 1"
   ]
  },
  {
   "cell_type": "markdown",
   "id": "18406278d3d7c0cf",
   "metadata": {},
   "source": [
    "## Step 2: Build the Tensorflow KAN model and Start Training"
   ]
  },
  {
   "cell_type": "code",
   "execution_count": 2,
   "id": "0e2bc449",
   "metadata": {
    "ExecuteTime": {
     "end_time": "2024-12-16T19:54:58.475450Z",
     "start_time": "2024-12-16T19:49:23.338606Z"
    }
   },
   "outputs": [
    {
     "name": "stdout",
     "output_type": "stream",
     "text": [
      "checkpoint directory created: ./model\n",
      "saving model version 0.0\n"
     ]
    },
    {
     "name": "stderr",
     "output_type": "stream",
     "text": [
      "Step: 19, Loss: 7.46e-02, L2 Loss: 4.69e-03: 100%|██████████████████| 20/20 [05:34<00:00, 16.74s/it]\n"
     ]
    }
   ],
   "source": [
    "\n",
    "# Initialize the KAN model\n",
    "model = KANTF(width=[2, 2, 1], grid=5, k=3)\n",
    "\n",
    "# Define the training function\n",
    "def train():\n",
    "    \"\"\"\n",
    "    Train the KAN model using the LBFGS optimizer.\n",
    "    \"\"\"\n",
    "    # Initialize the LBFGS optimizer\n",
    "    optimizer = LBFGS(\n",
    "        learning_rate=0.001,\n",
    "        max_iter=steps,\n",
    "        history_size=10,\n",
    "        line_search_fn=\"strong_wolfe\",\n",
    "        tolerance_grad=1e-32,\n",
    "        tolerance_change=1e-32,\n",
    "        tolerance_ys=1e-32\n",
    "    )\n",
    "\n",
    "    pbar = tqdm(range(steps), desc='Training', ncols=100)\n",
    "\n",
    "    def loss_fn():\n",
    "        \"\"\"\n",
    "        Compute the total loss: interior PDE loss + boundary condition loss.\n",
    "        \"\"\"\n",
    "        # Compute the interior loss (PDE loss)\n",
    "        sol = sol_fun(x_i)\n",
    "        sol_D1_fun = lambda x: batch_jacobian(model, x)[:, 0, :]\n",
    "        sol_D1 = sol_D1_fun(x_i)\n",
    "        sol_D2 = batch_jacobian(sol_D1_fun, x_i)  # Second derivative (Laplacian)\n",
    "        lap = tf.reduce_sum(tf.linalg.diag_part(sol_D2), axis=1, keepdims=True)\n",
    "        source = source_fun(x_i)\n",
    "        pde_loss = tf.reduce_mean((lap - source) ** 2)\n",
    "\n",
    "        # Compute the boundary condition loss\n",
    "        bc_true = sol_fun(x_b)\n",
    "        bc_pred = model(x_b)\n",
    "        bc_loss = tf.reduce_mean((bc_pred - bc_true) ** 2)\n",
    "\n",
    "        # Combine the losses\n",
    "        loss = alpha * pde_loss + bc_loss\n",
    "        return loss\n",
    "\n",
    "    for step in pbar:\n",
    "        # Minimize the loss using LBFGS\n",
    "        loss = optimizer.minimize(loss_fn, model.trainable_variables)\n",
    "        loss = tf.convert_to_tensor(loss, dtype=tf.float32)\n",
    "\n",
    "        # Compute L2 loss\n",
    "        sol = sol_fun(x_i)\n",
    "        l2_loss = tf.reduce_mean((model(x_i) - sol) ** 2)\n",
    "\n",
    "        # Log progress\n",
    "        if step % log == 0:\n",
    "            pbar.set_description(f\"Step: {step}, Loss: {loss.numpy():.2e}, L2 Loss: {l2_loss.numpy():.2e}\")\n",
    "\n",
    "        # Dynamic grid update\n",
    "        if step % 5 == 0 and step < 50:\n",
    "            model.update_grid_from_samples(x_i)\n",
    "\n",
    "# Call the training function\n",
    "train()\n"
   ]
  },
  {
   "cell_type": "markdown",
   "id": "e2246bab",
   "metadata": {},
   "source": [
    "## Step 3: Plot the Trained KAN"
   ]
  },
  {
   "cell_type": "code",
   "execution_count": 3,
   "id": "02e2a0ba",
   "metadata": {
    "ExecuteTime": {
     "end_time": "2024-12-16T19:57:48.058131Z",
     "start_time": "2024-12-16T19:57:47.009087Z"
    }
   },
   "outputs": [
    {
     "data": {
      "image/png": "[encoded data removed]",
      "text/plain": [
       "<Figure size 500x400 with 10 Axes>"
      ]
     },
     "metadata": {},
     "output_type": "display_data"
    }
   ],
   "source": [
    "model.plot(beta=10)"
   ]
  },
  {
   "cell_type": "markdown",
   "id": "64d2573b",
   "metadata": {},
   "source": [
    "## Step 4: Fix the Symbolic Formula\n",
    "Fix the first layer activation to be linear function, and the second layer to be sine functions (caveat: this is quite sensitive to hypreparams)"
   ]
  },
  {
   "cell_type": "code",
   "execution_count": 4,
   "id": "e2e78752",
   "metadata": {
    "ExecuteTime": {
     "end_time": "2024-12-16T19:57:57.534539Z",
     "start_time": "2024-12-16T19:57:56.922968Z"
    }
   },
   "outputs": [
    {
     "name": "stdout",
     "output_type": "stream",
     "text": [
      "r2 is 0.11810169368982315\n",
      "r2 is not very high, please double-check if you are choosing the correct symbolic function.\n",
      "Saving model version 0.1\n",
      "Best value at boundary.\n",
      "r2 is 0.5276867151260376\n",
      "r2 is not very high, please double-check if you are choosing the correct symbolic function.\n",
      "Saving model version 0.2\n",
      "r2 is 0.11906592547893524\n",
      "r2 is not very high, please double-check if you are choosing the correct symbolic function.\n",
      "Saving model version 0.3\n",
      "r2 is 0.52785325050354\n",
      "r2 is not very high, please double-check if you are choosing the correct symbolic function.\n",
      "Saving model version 0.4\n"
     ]
    },
    {
     "data": {
      "text/plain": [
       "<tf.Tensor: shape=(), dtype=float32, numpy=0.52785325>"
      ]
     },
     "execution_count": 4,
     "metadata": {},
     "output_type": "execute_result"
    }
   ],
   "source": [
    "model.fix_symbolic(0,0,0,'x')\n",
    "model.fix_symbolic(0,0,1,'x')\n",
    "model.fix_symbolic(0,1,0,'x')\n",
    "model.fix_symbolic(0,1,1,'x')"
   ]
  },
  {
   "cell_type": "markdown",
   "id": "3fae3f32",
   "metadata": {},
   "source": [
    "After setting all to be symbolic, we further train the model (affine parameters are still trainable). The model can now reach higer precision."
   ]
  },
  {
   "cell_type": "code",
   "execution_count": 5,
   "id": "308b72af",
   "metadata": {
    "ExecuteTime": {
     "end_time": "2024-12-16T20:03:43.844679Z",
     "start_time": "2024-12-16T19:58:06.931296Z"
    }
   },
   "outputs": [
    {
     "name": "stderr",
     "output_type": "stream",
     "text": [
      "Step: 19, Loss: 7.47e-02, L2 Loss: 4.58e-03: 100%|██████████████████| 20/20 [05:36<00:00, 16.85s/it]\n"
     ]
    }
   ],
   "source": [
    "train()"
   ]
  },
  {
   "cell_type": "markdown",
   "id": "35985ae9",
   "metadata": {},
   "source": [
    "Print out the symbolic formula"
   ]
  },
  {
   "cell_type": "code",
   "execution_count": 7,
   "id": "f0ec310e",
   "metadata": {
    "ExecuteTime": {
     "end_time": "2024-12-16T20:26:16.347695Z",
     "start_time": "2024-12-16T20:25:54.105526Z"
    }
   },
   "outputs": [
    {
     "name": "stdout",
     "output_type": "stream",
     "text": [
      "fixing (0,0,0) with 0, r2=0.0, c=0\n",
      "fixing (0,0,1) with cos, r2=0.9974261522293091, c=2\n",
      "fixing (0,1,0) with 0, r2=0.0, c=0\n",
      "fixing (0,1,1) with cos, r2=0.9974376559257507, c=2\n",
      "fixing (1,0,0) with x, r2=0.9996034502983093, c=1\n",
      "fixing (1,1,0) with sin, r2=0.9999176859855652, c=2\n",
      "Saving model version 0.5\n",
      "Symbolic Formula: -5.65506839752197*sin(0.405295629586949*cos(3.11080002784729*x_1 + 1.58055996894836) + 0.403698368172968*cos(3.11184000968933*x_2 - 1.5809600353241) + 4.65486883249812) - 5.19759039259201\n"
     ]
    }
   ],
   "source": [
    "# from tensorkan.utils import ex_round\n",
    "# formula = model.symbolic_formula()[0][0]\n",
    "# ex_round(formula, 6)\n",
    "from tensorkan.utils import ex_round\n",
    "\n",
    "# Ensure all activations are converted to symbolic formulas\n",
    "model.auto_symbolic()\n",
    "\n",
    "# Verify symbolic formulas\n",
    "symbolic_output = model.symbolic_formula()\n",
    "if symbolic_output is not None:\n",
    "    formula = symbolic_output[0][0]\n",
    "    print(\"Symbolic Formula:\", formula)\n",
    "    ex_round(formula, 6)\n",
    "else:\n",
    "    print(\"Error: No symbolic formulas generated. Check auto_symbolic execution.\")\n"
   ]
  },
  {
   "cell_type": "markdown",
   "id": "7f23dbf2969d45e1",
   "metadata": {},
   "source": [
    "## Step 5: Analysis of Results\n",
    "There are some observations and insights drawn from the training process and final outcomes:\n",
    "\n",
    "1.Rapid Loss Reduction and the Role of Grid Refinement:  \n",
    "In the early steps, both training loss and L2 loss dropped quickly, showing the model’s efficiency in capturing the overall solution structure.  \n",
    "Dynamic grid updates significantly improved accuracy by refining spatial resolution, especially during the initial training phase.  \n",
    "\n",
    "2.Fast Convergence and Model Efficiency:\n",
    "After the initial sharp decline in loss, the model stabilized and converged quickly, showing that the KAN model efficiently learned the solution.\n",
    "There are two possible factors that may contribute to this fast convergence:\n",
    "symbolic fixing and LBFGS Optimization. By fixing the first layer’s activations to linear functions and the second to sine functions, the model architecture better matched the target solution's known structure (${\\rm sin}(\\pi x){\\rm sin}(\\pi y)$). This reduced the solution complexity for the model. The L-BFGS optimizer’s use of second-order gradient information helped minimize the loss faster compared to standard optimizers.  \n",
    "\n",
    "3.Balancing Accuracy and Computational Complexity:  \n",
    "In this experiment, the PDE loss was reduced to $7.47 \\times 10^{-2} $, while the L2 loss stabilized at $ 4.58 \\times 10^{-3} $. This indicates that the model successfully learned a precise numerical approximation of the solution.  \n",
    "The symbolic formula derived at the end captured the essence of the ground-truth solution using sine and cosine components. This is impressive because it shows the KAN model not only solved the equation but also understood its underlying mathematical structure.  \n",
    "While refining the grid helped improve accuracy, it also increased the training time (16.8 seconds per iteration). Excessive grid updates would likely offer diminishing returns, so a balance must be struck.  \n",
    "\n",
    "\n",
    "Based on the analysis, there are some key insights:\n",
    "\n",
    "1.KAN's Strength in Solving PDEs: The experiment clearly shows that the KAN model is a powerful tool for approximating PDE solutions with high accuracy and extracting symbolic insights.  \n",
    "\n",
    "2.Dynamic Grid Refinement is Crucial: Regularly refining the grid significantly improved early-stage learning. However, overly fine grids may not always justify the added computational cost.  \n",
    "\n",
    "3.Symbolic Interpretability: Fixing symbolic layers is a game-changer—it allows the model to align its learned functions with the known structure of the PDE, improving both accuracy and interpretability. \n",
    "\n",
    "4.Balancing Accuracy and Efficiency: There’s always a tradeoff between precision and training time. Refining the grid and tuning symbolic layers requires thoughtful adjustments to avoid inefficiencies."
   ]
  },
  {
   "cell_type": "markdown",
   "id": "8b6605b6ca67f0be",
   "metadata": {},
   "source": []
  }
 ],
 "metadata": {
  "kernelspec": {
   "display_name": "Python 3 (ipykernel)",
   "language": "python",
   "name": "python3"
  },
  "language_info": {
   "codemirror_mode": {
    "name": "ipython",
    "version": 3
   },
   "file_extension": ".py",
   "mimetype": "text/x-python",
   "name": "python",
   "nbconvert_exporter": "python",
   "pygments_lexer": "ipython3",
   "version": "3.9.7"
  }
 },
 "nbformat": 4,
 "nbformat_minor": 5
}
